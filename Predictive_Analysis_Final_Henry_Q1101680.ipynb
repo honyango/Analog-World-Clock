{
  "nbformat": 4,
  "nbformat_minor": 0,
  "metadata": {
    "colab": {
      "provenance": [],
      "mount_file_id": "1BC6cG1MACCR2tIEhXYiNvknCEWmiT50u",
      "authorship_tag": "ABX9TyOu+MiGfxlwn+6yZXI7TTse",
      "include_colab_link": true
    },
    "kernelspec": {
      "name": "python3",
      "display_name": "Python 3"
    },
    "language_info": {
      "name": "python"
    }
  },
  "cells": [
    {
      "cell_type": "markdown",
      "metadata": {
        "id": "view-in-github",
        "colab_type": "text"
      },
      "source": [
        "<a href=\"https://colab.research.google.com/github/honyango/Analog-World-Clock/blob/master/Predictive_Analysis_Final_Henry_Q1101680.ipynb\" target=\"_parent\"><img src=\"https://colab.research.google.com/assets/colab-badge.svg\" alt=\"Open In Colab\"/></a>"
      ]
    },
    {
      "cell_type": "markdown",
      "source": [
        "Install required Libraries"
      ],
      "metadata": {
        "id": "HoKVgT7KAtLa"
      }
    },
    {
      "cell_type": "code",
      "source": [
        "import pandas as pd\n",
        "import numpy as np\n",
        "import seaborn as sns\n",
        "import matplotlib.pyplot as plt\n",
        "%matplotlib inline\n",
        "\n",
        "#Load the dataset\n",
        "df = pd.read_csv('clean_jobs.csv')\n",
        "\n",
        "#Data overview\n",
        "df.head()\n",
        "df.info()\n",
        "df.describe(include='all')\n",
        "\n"
      ],
      "metadata": {
        "id": "zqZFtlduAyQo",
        "colab": {
          "base_uri": "https://localhost:8080/",
          "height": 791
        },
        "outputId": "4bac3a39-e19d-400c-f833-28c956366d87"
      },
      "execution_count": 5,
      "outputs": [
        {
          "output_type": "stream",
          "name": "stdout",
          "text": [
            "<class 'pandas.core.frame.DataFrame'>\n",
            "RangeIndex: 1048 entries, 0 to 1047\n",
            "Data columns (total 10 columns):\n",
            " #   Column           Non-Null Count  Dtype  \n",
            "---  ------           --------------  -----  \n",
            " 0   id               1048 non-null   int64  \n",
            " 1   title            1048 non-null   object \n",
            " 2   company          1046 non-null   object \n",
            " 3   location         1033 non-null   object \n",
            " 4   link             1048 non-null   object \n",
            " 5   source           959 non-null    object \n",
            " 6   date_posted      1025 non-null   object \n",
            " 7   work_type        0 non-null      float64\n",
            " 8   employment_type  0 non-null      float64\n",
            " 9   description      1044 non-null   object \n",
            "dtypes: float64(2), int64(1), object(7)\n",
            "memory usage: 82.0+ KB\n"
          ]
        },
        {
          "output_type": "execute_result",
          "data": {
            "text/plain": [
              "                 id         title company       location  \\\n",
              "count   1048.000000          1048    1046           1033   \n",
              "unique          NaN           523     632            358   \n",
              "top             NaN  Data Analyst    Meta  United States   \n",
              "freq            NaN           152      70             73   \n",
              "mean    1314.083969           NaN     NaN            NaN   \n",
              "std      772.822422           NaN     NaN            NaN   \n",
              "min        1.000000           NaN     NaN            NaN   \n",
              "25%      616.750000           NaN     NaN            NaN   \n",
              "50%     1303.500000           NaN     NaN            NaN   \n",
              "75%     2033.250000           NaN     NaN            NaN   \n",
              "max     2534.000000           NaN     NaN            NaN   \n",
              "\n",
              "                                                     link    source  \\\n",
              "count                                                1048       959   \n",
              "unique                                               1048         3   \n",
              "top     https://www.indeed.com/viewjob?jk=cb932aabb3ef...  LinkedIn   \n",
              "freq                                                    1       862   \n",
              "mean                                                  NaN       NaN   \n",
              "std                                                   NaN       NaN   \n",
              "min                                                   NaN       NaN   \n",
              "25%                                                   NaN       NaN   \n",
              "50%                                                   NaN       NaN   \n",
              "75%                                                   NaN       NaN   \n",
              "max                                                   NaN       NaN   \n",
              "\n",
              "       date_posted  work_type  employment_type  \\\n",
              "count         1025        0.0              0.0   \n",
              "unique          36        NaN              NaN   \n",
              "top     2025-06-06        NaN              NaN   \n",
              "freq           108        NaN              NaN   \n",
              "mean           NaN        NaN              NaN   \n",
              "std            NaN        NaN              NaN   \n",
              "min            NaN        NaN              NaN   \n",
              "25%            NaN        NaN              NaN   \n",
              "50%            NaN        NaN              NaN   \n",
              "75%            NaN        NaN              NaN   \n",
              "max            NaN        NaN              NaN   \n",
              "\n",
              "                                              description  \n",
              "count                                                1044  \n",
              "unique                                                933  \n",
              "top     As a Data Engineer at Meta, you will shape the...  \n",
              "freq                                                   11  \n",
              "mean                                                  NaN  \n",
              "std                                                   NaN  \n",
              "min                                                   NaN  \n",
              "25%                                                   NaN  \n",
              "50%                                                   NaN  \n",
              "75%                                                   NaN  \n",
              "max                                                   NaN  "
            ],
            "text/html": [
              "\n",
              "  <div id=\"df-b20812f6-f082-4935-aabb-7bcd4032fbe6\" class=\"colab-df-container\">\n",
              "    <div>\n",
              "<style scoped>\n",
              "    .dataframe tbody tr th:only-of-type {\n",
              "        vertical-align: middle;\n",
              "    }\n",
              "\n",
              "    .dataframe tbody tr th {\n",
              "        vertical-align: top;\n",
              "    }\n",
              "\n",
              "    .dataframe thead th {\n",
              "        text-align: right;\n",
              "    }\n",
              "</style>\n",
              "<table border=\"1\" class=\"dataframe\">\n",
              "  <thead>\n",
              "    <tr style=\"text-align: right;\">\n",
              "      <th></th>\n",
              "      <th>id</th>\n",
              "      <th>title</th>\n",
              "      <th>company</th>\n",
              "      <th>location</th>\n",
              "      <th>link</th>\n",
              "      <th>source</th>\n",
              "      <th>date_posted</th>\n",
              "      <th>work_type</th>\n",
              "      <th>employment_type</th>\n",
              "      <th>description</th>\n",
              "    </tr>\n",
              "  </thead>\n",
              "  <tbody>\n",
              "    <tr>\n",
              "      <th>count</th>\n",
              "      <td>1048.000000</td>\n",
              "      <td>1048</td>\n",
              "      <td>1046</td>\n",
              "      <td>1033</td>\n",
              "      <td>1048</td>\n",
              "      <td>959</td>\n",
              "      <td>1025</td>\n",
              "      <td>0.0</td>\n",
              "      <td>0.0</td>\n",
              "      <td>1044</td>\n",
              "    </tr>\n",
              "    <tr>\n",
              "      <th>unique</th>\n",
              "      <td>NaN</td>\n",
              "      <td>523</td>\n",
              "      <td>632</td>\n",
              "      <td>358</td>\n",
              "      <td>1048</td>\n",
              "      <td>3</td>\n",
              "      <td>36</td>\n",
              "      <td>NaN</td>\n",
              "      <td>NaN</td>\n",
              "      <td>933</td>\n",
              "    </tr>\n",
              "    <tr>\n",
              "      <th>top</th>\n",
              "      <td>NaN</td>\n",
              "      <td>Data Analyst</td>\n",
              "      <td>Meta</td>\n",
              "      <td>United States</td>\n",
              "      <td>https://www.indeed.com/viewjob?jk=cb932aabb3ef...</td>\n",
              "      <td>LinkedIn</td>\n",
              "      <td>2025-06-06</td>\n",
              "      <td>NaN</td>\n",
              "      <td>NaN</td>\n",
              "      <td>As a Data Engineer at Meta, you will shape the...</td>\n",
              "    </tr>\n",
              "    <tr>\n",
              "      <th>freq</th>\n",
              "      <td>NaN</td>\n",
              "      <td>152</td>\n",
              "      <td>70</td>\n",
              "      <td>73</td>\n",
              "      <td>1</td>\n",
              "      <td>862</td>\n",
              "      <td>108</td>\n",
              "      <td>NaN</td>\n",
              "      <td>NaN</td>\n",
              "      <td>11</td>\n",
              "    </tr>\n",
              "    <tr>\n",
              "      <th>mean</th>\n",
              "      <td>1314.083969</td>\n",
              "      <td>NaN</td>\n",
              "      <td>NaN</td>\n",
              "      <td>NaN</td>\n",
              "      <td>NaN</td>\n",
              "      <td>NaN</td>\n",
              "      <td>NaN</td>\n",
              "      <td>NaN</td>\n",
              "      <td>NaN</td>\n",
              "      <td>NaN</td>\n",
              "    </tr>\n",
              "    <tr>\n",
              "      <th>std</th>\n",
              "      <td>772.822422</td>\n",
              "      <td>NaN</td>\n",
              "      <td>NaN</td>\n",
              "      <td>NaN</td>\n",
              "      <td>NaN</td>\n",
              "      <td>NaN</td>\n",
              "      <td>NaN</td>\n",
              "      <td>NaN</td>\n",
              "      <td>NaN</td>\n",
              "      <td>NaN</td>\n",
              "    </tr>\n",
              "    <tr>\n",
              "      <th>min</th>\n",
              "      <td>1.000000</td>\n",
              "      <td>NaN</td>\n",
              "      <td>NaN</td>\n",
              "      <td>NaN</td>\n",
              "      <td>NaN</td>\n",
              "      <td>NaN</td>\n",
              "      <td>NaN</td>\n",
              "      <td>NaN</td>\n",
              "      <td>NaN</td>\n",
              "      <td>NaN</td>\n",
              "    </tr>\n",
              "    <tr>\n",
              "      <th>25%</th>\n",
              "      <td>616.750000</td>\n",
              "      <td>NaN</td>\n",
              "      <td>NaN</td>\n",
              "      <td>NaN</td>\n",
              "      <td>NaN</td>\n",
              "      <td>NaN</td>\n",
              "      <td>NaN</td>\n",
              "      <td>NaN</td>\n",
              "      <td>NaN</td>\n",
              "      <td>NaN</td>\n",
              "    </tr>\n",
              "    <tr>\n",
              "      <th>50%</th>\n",
              "      <td>1303.500000</td>\n",
              "      <td>NaN</td>\n",
              "      <td>NaN</td>\n",
              "      <td>NaN</td>\n",
              "      <td>NaN</td>\n",
              "      <td>NaN</td>\n",
              "      <td>NaN</td>\n",
              "      <td>NaN</td>\n",
              "      <td>NaN</td>\n",
              "      <td>NaN</td>\n",
              "    </tr>\n",
              "    <tr>\n",
              "      <th>75%</th>\n",
              "      <td>2033.250000</td>\n",
              "      <td>NaN</td>\n",
              "      <td>NaN</td>\n",
              "      <td>NaN</td>\n",
              "      <td>NaN</td>\n",
              "      <td>NaN</td>\n",
              "      <td>NaN</td>\n",
              "      <td>NaN</td>\n",
              "      <td>NaN</td>\n",
              "      <td>NaN</td>\n",
              "    </tr>\n",
              "    <tr>\n",
              "      <th>max</th>\n",
              "      <td>2534.000000</td>\n",
              "      <td>NaN</td>\n",
              "      <td>NaN</td>\n",
              "      <td>NaN</td>\n",
              "      <td>NaN</td>\n",
              "      <td>NaN</td>\n",
              "      <td>NaN</td>\n",
              "      <td>NaN</td>\n",
              "      <td>NaN</td>\n",
              "      <td>NaN</td>\n",
              "    </tr>\n",
              "  </tbody>\n",
              "</table>\n",
              "</div>\n",
              "    <div class=\"colab-df-buttons\">\n",
              "\n",
              "  <div class=\"colab-df-container\">\n",
              "    <button class=\"colab-df-convert\" onclick=\"convertToInteractive('df-b20812f6-f082-4935-aabb-7bcd4032fbe6')\"\n",
              "            title=\"Convert this dataframe to an interactive table.\"\n",
              "            style=\"display:none;\">\n",
              "\n",
              "  <svg xmlns=\"http://www.w3.org/2000/svg\" height=\"24px\" viewBox=\"0 -960 960 960\">\n",
              "    <path d=\"M120-120v-720h720v720H120Zm60-500h600v-160H180v160Zm220 220h160v-160H400v160Zm0 220h160v-160H400v160ZM180-400h160v-160H180v160Zm440 0h160v-160H620v160ZM180-180h160v-160H180v160Zm440 0h160v-160H620v160Z\"/>\n",
              "  </svg>\n",
              "    </button>\n",
              "\n",
              "  <style>\n",
              "    .colab-df-container {\n",
              "      display:flex;\n",
              "      gap: 12px;\n",
              "    }\n",
              "\n",
              "    .colab-df-convert {\n",
              "      background-color: #E8F0FE;\n",
              "      border: none;\n",
              "      border-radius: 50%;\n",
              "      cursor: pointer;\n",
              "      display: none;\n",
              "      fill: #1967D2;\n",
              "      height: 32px;\n",
              "      padding: 0 0 0 0;\n",
              "      width: 32px;\n",
              "    }\n",
              "\n",
              "    .colab-df-convert:hover {\n",
              "      background-color: #E2EBFA;\n",
              "      box-shadow: 0px 1px 2px rgba(60, 64, 67, 0.3), 0px 1px 3px 1px rgba(60, 64, 67, 0.15);\n",
              "      fill: #174EA6;\n",
              "    }\n",
              "\n",
              "    .colab-df-buttons div {\n",
              "      margin-bottom: 4px;\n",
              "    }\n",
              "\n",
              "    [theme=dark] .colab-df-convert {\n",
              "      background-color: #3B4455;\n",
              "      fill: #D2E3FC;\n",
              "    }\n",
              "\n",
              "    [theme=dark] .colab-df-convert:hover {\n",
              "      background-color: #434B5C;\n",
              "      box-shadow: 0px 1px 3px 1px rgba(0, 0, 0, 0.15);\n",
              "      filter: drop-shadow(0px 1px 2px rgba(0, 0, 0, 0.3));\n",
              "      fill: #FFFFFF;\n",
              "    }\n",
              "  </style>\n",
              "\n",
              "    <script>\n",
              "      const buttonEl =\n",
              "        document.querySelector('#df-b20812f6-f082-4935-aabb-7bcd4032fbe6 button.colab-df-convert');\n",
              "      buttonEl.style.display =\n",
              "        google.colab.kernel.accessAllowed ? 'block' : 'none';\n",
              "\n",
              "      async function convertToInteractive(key) {\n",
              "        const element = document.querySelector('#df-b20812f6-f082-4935-aabb-7bcd4032fbe6');\n",
              "        const dataTable =\n",
              "          await google.colab.kernel.invokeFunction('convertToInteractive',\n",
              "                                                    [key], {});\n",
              "        if (!dataTable) return;\n",
              "\n",
              "        const docLinkHtml = 'Like what you see? Visit the ' +\n",
              "          '<a target=\"_blank\" href=https://colab.research.google.com/notebooks/data_table.ipynb>data table notebook</a>'\n",
              "          + ' to learn more about interactive tables.';\n",
              "        element.innerHTML = '';\n",
              "        dataTable['output_type'] = 'display_data';\n",
              "        await google.colab.output.renderOutput(dataTable, element);\n",
              "        const docLink = document.createElement('div');\n",
              "        docLink.innerHTML = docLinkHtml;\n",
              "        element.appendChild(docLink);\n",
              "      }\n",
              "    </script>\n",
              "  </div>\n",
              "\n",
              "\n",
              "    <div id=\"df-65d57533-ce17-4cee-a4cd-f7981a004e35\">\n",
              "      <button class=\"colab-df-quickchart\" onclick=\"quickchart('df-65d57533-ce17-4cee-a4cd-f7981a004e35')\"\n",
              "                title=\"Suggest charts\"\n",
              "                style=\"display:none;\">\n",
              "\n",
              "<svg xmlns=\"http://www.w3.org/2000/svg\" height=\"24px\"viewBox=\"0 0 24 24\"\n",
              "     width=\"24px\">\n",
              "    <g>\n",
              "        <path d=\"M19 3H5c-1.1 0-2 .9-2 2v14c0 1.1.9 2 2 2h14c1.1 0 2-.9 2-2V5c0-1.1-.9-2-2-2zM9 17H7v-7h2v7zm4 0h-2V7h2v10zm4 0h-2v-4h2v4z\"/>\n",
              "    </g>\n",
              "</svg>\n",
              "      </button>\n",
              "\n",
              "<style>\n",
              "  .colab-df-quickchart {\n",
              "      --bg-color: #E8F0FE;\n",
              "      --fill-color: #1967D2;\n",
              "      --hover-bg-color: #E2EBFA;\n",
              "      --hover-fill-color: #174EA6;\n",
              "      --disabled-fill-color: #AAA;\n",
              "      --disabled-bg-color: #DDD;\n",
              "  }\n",
              "\n",
              "  [theme=dark] .colab-df-quickchart {\n",
              "      --bg-color: #3B4455;\n",
              "      --fill-color: #D2E3FC;\n",
              "      --hover-bg-color: #434B5C;\n",
              "      --hover-fill-color: #FFFFFF;\n",
              "      --disabled-bg-color: #3B4455;\n",
              "      --disabled-fill-color: #666;\n",
              "  }\n",
              "\n",
              "  .colab-df-quickchart {\n",
              "    background-color: var(--bg-color);\n",
              "    border: none;\n",
              "    border-radius: 50%;\n",
              "    cursor: pointer;\n",
              "    display: none;\n",
              "    fill: var(--fill-color);\n",
              "    height: 32px;\n",
              "    padding: 0;\n",
              "    width: 32px;\n",
              "  }\n",
              "\n",
              "  .colab-df-quickchart:hover {\n",
              "    background-color: var(--hover-bg-color);\n",
              "    box-shadow: 0 1px 2px rgba(60, 64, 67, 0.3), 0 1px 3px 1px rgba(60, 64, 67, 0.15);\n",
              "    fill: var(--button-hover-fill-color);\n",
              "  }\n",
              "\n",
              "  .colab-df-quickchart-complete:disabled,\n",
              "  .colab-df-quickchart-complete:disabled:hover {\n",
              "    background-color: var(--disabled-bg-color);\n",
              "    fill: var(--disabled-fill-color);\n",
              "    box-shadow: none;\n",
              "  }\n",
              "\n",
              "  .colab-df-spinner {\n",
              "    border: 2px solid var(--fill-color);\n",
              "    border-color: transparent;\n",
              "    border-bottom-color: var(--fill-color);\n",
              "    animation:\n",
              "      spin 1s steps(1) infinite;\n",
              "  }\n",
              "\n",
              "  @keyframes spin {\n",
              "    0% {\n",
              "      border-color: transparent;\n",
              "      border-bottom-color: var(--fill-color);\n",
              "      border-left-color: var(--fill-color);\n",
              "    }\n",
              "    20% {\n",
              "      border-color: transparent;\n",
              "      border-left-color: var(--fill-color);\n",
              "      border-top-color: var(--fill-color);\n",
              "    }\n",
              "    30% {\n",
              "      border-color: transparent;\n",
              "      border-left-color: var(--fill-color);\n",
              "      border-top-color: var(--fill-color);\n",
              "      border-right-color: var(--fill-color);\n",
              "    }\n",
              "    40% {\n",
              "      border-color: transparent;\n",
              "      border-right-color: var(--fill-color);\n",
              "      border-top-color: var(--fill-color);\n",
              "    }\n",
              "    60% {\n",
              "      border-color: transparent;\n",
              "      border-right-color: var(--fill-color);\n",
              "    }\n",
              "    80% {\n",
              "      border-color: transparent;\n",
              "      border-right-color: var(--fill-color);\n",
              "      border-bottom-color: var(--fill-color);\n",
              "    }\n",
              "    90% {\n",
              "      border-color: transparent;\n",
              "      border-bottom-color: var(--fill-color);\n",
              "    }\n",
              "  }\n",
              "</style>\n",
              "\n",
              "      <script>\n",
              "        async function quickchart(key) {\n",
              "          const quickchartButtonEl =\n",
              "            document.querySelector('#' + key + ' button');\n",
              "          quickchartButtonEl.disabled = true;  // To prevent multiple clicks.\n",
              "          quickchartButtonEl.classList.add('colab-df-spinner');\n",
              "          try {\n",
              "            const charts = await google.colab.kernel.invokeFunction(\n",
              "                'suggestCharts', [key], {});\n",
              "          } catch (error) {\n",
              "            console.error('Error during call to suggestCharts:', error);\n",
              "          }\n",
              "          quickchartButtonEl.classList.remove('colab-df-spinner');\n",
              "          quickchartButtonEl.classList.add('colab-df-quickchart-complete');\n",
              "        }\n",
              "        (() => {\n",
              "          let quickchartButtonEl =\n",
              "            document.querySelector('#df-65d57533-ce17-4cee-a4cd-f7981a004e35 button');\n",
              "          quickchartButtonEl.style.display =\n",
              "            google.colab.kernel.accessAllowed ? 'block' : 'none';\n",
              "        })();\n",
              "      </script>\n",
              "    </div>\n",
              "\n",
              "    </div>\n",
              "  </div>\n"
            ],
            "application/vnd.google.colaboratory.intrinsic+json": {
              "type": "dataframe",
              "summary": "{\n  \"name\": \"df\",\n  \"rows\": 11,\n  \"fields\": [\n    {\n      \"column\": \"id\",\n      \"properties\": {\n        \"dtype\": \"number\",\n        \"std\": 800.0791682418958,\n        \"min\": 1.0,\n        \"max\": 2534.0,\n        \"num_unique_values\": 8,\n        \"samples\": [\n          1314.0839694656488,\n          1303.5,\n          1048.0\n        ],\n        \"semantic_type\": \"\",\n        \"description\": \"\"\n      }\n    },\n    {\n      \"column\": \"title\",\n      \"properties\": {\n        \"dtype\": \"category\",\n        \"num_unique_values\": 4,\n        \"samples\": [\n          523,\n          \"152\",\n          \"1048\"\n        ],\n        \"semantic_type\": \"\",\n        \"description\": \"\"\n      }\n    },\n    {\n      \"column\": \"company\",\n      \"properties\": {\n        \"dtype\": \"category\",\n        \"num_unique_values\": 4,\n        \"samples\": [\n          632,\n          \"70\",\n          \"1046\"\n        ],\n        \"semantic_type\": \"\",\n        \"description\": \"\"\n      }\n    },\n    {\n      \"column\": \"location\",\n      \"properties\": {\n        \"dtype\": \"category\",\n        \"num_unique_values\": 4,\n        \"samples\": [\n          358,\n          \"73\",\n          \"1033\"\n        ],\n        \"semantic_type\": \"\",\n        \"description\": \"\"\n      }\n    },\n    {\n      \"column\": \"link\",\n      \"properties\": {\n        \"dtype\": \"category\",\n        \"num_unique_values\": 3,\n        \"samples\": [\n          \"1048\",\n          \"https://www.indeed.com/viewjob?jk=cb932aabb3ef7263\",\n          \"1\"\n        ],\n        \"semantic_type\": \"\",\n        \"description\": \"\"\n      }\n    },\n    {\n      \"column\": \"source\",\n      \"properties\": {\n        \"dtype\": \"category\",\n        \"num_unique_values\": 4,\n        \"samples\": [\n          3,\n          \"862\",\n          \"959\"\n        ],\n        \"semantic_type\": \"\",\n        \"description\": \"\"\n      }\n    },\n    {\n      \"column\": \"date_posted\",\n      \"properties\": {\n        \"dtype\": \"date\",\n        \"min\": \"1970-01-01 00:00:00.000000036\",\n        \"max\": \"2025-06-06 00:00:00\",\n        \"num_unique_values\": 4,\n        \"samples\": [\n          36,\n          \"108\",\n          \"1025\"\n        ],\n        \"semantic_type\": \"\",\n        \"description\": \"\"\n      }\n    },\n    {\n      \"column\": \"work_type\",\n      \"properties\": {\n        \"dtype\": \"number\",\n        \"std\": null,\n        \"min\": 0.0,\n        \"max\": 0.0,\n        \"num_unique_values\": 1,\n        \"samples\": [\n          0.0\n        ],\n        \"semantic_type\": \"\",\n        \"description\": \"\"\n      }\n    },\n    {\n      \"column\": \"employment_type\",\n      \"properties\": {\n        \"dtype\": \"number\",\n        \"std\": null,\n        \"min\": 0.0,\n        \"max\": 0.0,\n        \"num_unique_values\": 1,\n        \"samples\": [\n          0.0\n        ],\n        \"semantic_type\": \"\",\n        \"description\": \"\"\n      }\n    },\n    {\n      \"column\": \"description\",\n      \"properties\": {\n        \"dtype\": \"category\",\n        \"num_unique_values\": 4,\n        \"samples\": [\n          933\n        ],\n        \"semantic_type\": \"\",\n        \"description\": \"\"\n      }\n    }\n  ]\n}"
            }
          },
          "metadata": {},
          "execution_count": 5
        }
      ]
    },
    {
      "cell_type": "code",
      "source": [
        "#Load the dataset\n",
        "df = pd.read_csv('clean_jobs.csv')\n",
        "\n",
        "#Data overview\n",
        "df.head()\n",
        "df.info()\n",
        "df.describe(include='all')\n",
        "\n",
        "# For better visuals\n",
        "sns.set(style=\"whitegrid\")\n",
        "plt.rcParams['figure.figsize'] = (10, 5)"
      ],
      "metadata": {
        "id": "Lfn7l5XhFP4h",
        "colab": {
          "base_uri": "https://localhost:8080/"
        },
        "outputId": "aec30ffb-8782-4336-e9fb-3c8a8eacc504"
      },
      "execution_count": 24,
      "outputs": [
        {
          "output_type": "stream",
          "name": "stdout",
          "text": [
            "<class 'pandas.core.frame.DataFrame'>\n",
            "RangeIndex: 1048 entries, 0 to 1047\n",
            "Data columns (total 10 columns):\n",
            " #   Column           Non-Null Count  Dtype  \n",
            "---  ------           --------------  -----  \n",
            " 0   id               1048 non-null   int64  \n",
            " 1   title            1048 non-null   object \n",
            " 2   company          1046 non-null   object \n",
            " 3   location         1033 non-null   object \n",
            " 4   link             1048 non-null   object \n",
            " 5   source           959 non-null    object \n",
            " 6   date_posted      1025 non-null   object \n",
            " 7   work_type        0 non-null      float64\n",
            " 8   employment_type  0 non-null      float64\n",
            " 9   description      1044 non-null   object \n",
            "dtypes: float64(2), int64(1), object(7)\n",
            "memory usage: 82.0+ KB\n"
          ]
        }
      ]
    },
    {
      "cell_type": "markdown",
      "source": [
        "Identify Data Types"
      ],
      "metadata": {
        "id": "Am24mbkOBcO9"
      }
    },
    {
      "cell_type": "code",
      "source": [
        "df.dtypes\n"
      ],
      "metadata": {
        "id": "ujl7e81MBgDJ",
        "colab": {
          "base_uri": "https://localhost:8080/",
          "height": 366
        },
        "outputId": "257d0d45-ff4b-4f6b-9a5f-c1ee65091376"
      },
      "execution_count": 22,
      "outputs": [
        {
          "output_type": "execute_result",
          "data": {
            "text/plain": [
              "id                        int64\n",
              "title                    object\n",
              "company                  object\n",
              "location                 object\n",
              "link                     object\n",
              "source                   object\n",
              "date_posted      datetime64[ns]\n",
              "description              object\n",
              "posting_month            object\n",
              "dtype: object"
            ],
            "text/html": [
              "<div>\n",
              "<style scoped>\n",
              "    .dataframe tbody tr th:only-of-type {\n",
              "        vertical-align: middle;\n",
              "    }\n",
              "\n",
              "    .dataframe tbody tr th {\n",
              "        vertical-align: top;\n",
              "    }\n",
              "\n",
              "    .dataframe thead th {\n",
              "        text-align: right;\n",
              "    }\n",
              "</style>\n",
              "<table border=\"1\" class=\"dataframe\">\n",
              "  <thead>\n",
              "    <tr style=\"text-align: right;\">\n",
              "      <th></th>\n",
              "      <th>0</th>\n",
              "    </tr>\n",
              "  </thead>\n",
              "  <tbody>\n",
              "    <tr>\n",
              "      <th>id</th>\n",
              "      <td>int64</td>\n",
              "    </tr>\n",
              "    <tr>\n",
              "      <th>title</th>\n",
              "      <td>object</td>\n",
              "    </tr>\n",
              "    <tr>\n",
              "      <th>company</th>\n",
              "      <td>object</td>\n",
              "    </tr>\n",
              "    <tr>\n",
              "      <th>location</th>\n",
              "      <td>object</td>\n",
              "    </tr>\n",
              "    <tr>\n",
              "      <th>link</th>\n",
              "      <td>object</td>\n",
              "    </tr>\n",
              "    <tr>\n",
              "      <th>source</th>\n",
              "      <td>object</td>\n",
              "    </tr>\n",
              "    <tr>\n",
              "      <th>date_posted</th>\n",
              "      <td>datetime64[ns]</td>\n",
              "    </tr>\n",
              "    <tr>\n",
              "      <th>description</th>\n",
              "      <td>object</td>\n",
              "    </tr>\n",
              "    <tr>\n",
              "      <th>posting_month</th>\n",
              "      <td>object</td>\n",
              "    </tr>\n",
              "  </tbody>\n",
              "</table>\n",
              "</div><br><label><b>dtype:</b> object</label>"
            ]
          },
          "metadata": {},
          "execution_count": 22
        }
      ]
    },
    {
      "cell_type": "markdown",
      "source": [
        "DATA CLEANING"
      ],
      "metadata": {
        "id": "LsnK-7DOBi3S"
      }
    },
    {
      "cell_type": "markdown",
      "source": [
        "Handle Missing Values"
      ],
      "metadata": {
        "id": "r3Nw4ZDHBt-A"
      }
    },
    {
      "cell_type": "code",
      "source": [
        "df.isnull().sum()\n",
        "df.dropna(inplace=True)\n",
        "df.fillna(df.mean(), inplace=True)\n",
        "#Show output\n",
        "df.isnull().sum()"
      ],
      "metadata": {
        "id": "lyAVC4YABwz4",
        "colab": {
          "base_uri": "https://localhost:8080/",
          "height": 397
        },
        "outputId": "4f25a767-d0b1-4177-da96-45a382dc26c5"
      },
      "execution_count": 25,
      "outputs": [
        {
          "output_type": "execute_result",
          "data": {
            "text/plain": [
              "id                 0\n",
              "title              0\n",
              "company            0\n",
              "location           0\n",
              "link               0\n",
              "source             0\n",
              "date_posted        0\n",
              "work_type          0\n",
              "employment_type    0\n",
              "description        0\n",
              "dtype: int64"
            ],
            "text/html": [
              "<div>\n",
              "<style scoped>\n",
              "    .dataframe tbody tr th:only-of-type {\n",
              "        vertical-align: middle;\n",
              "    }\n",
              "\n",
              "    .dataframe tbody tr th {\n",
              "        vertical-align: top;\n",
              "    }\n",
              "\n",
              "    .dataframe thead th {\n",
              "        text-align: right;\n",
              "    }\n",
              "</style>\n",
              "<table border=\"1\" class=\"dataframe\">\n",
              "  <thead>\n",
              "    <tr style=\"text-align: right;\">\n",
              "      <th></th>\n",
              "      <th>0</th>\n",
              "    </tr>\n",
              "  </thead>\n",
              "  <tbody>\n",
              "    <tr>\n",
              "      <th>id</th>\n",
              "      <td>0</td>\n",
              "    </tr>\n",
              "    <tr>\n",
              "      <th>title</th>\n",
              "      <td>0</td>\n",
              "    </tr>\n",
              "    <tr>\n",
              "      <th>company</th>\n",
              "      <td>0</td>\n",
              "    </tr>\n",
              "    <tr>\n",
              "      <th>location</th>\n",
              "      <td>0</td>\n",
              "    </tr>\n",
              "    <tr>\n",
              "      <th>link</th>\n",
              "      <td>0</td>\n",
              "    </tr>\n",
              "    <tr>\n",
              "      <th>source</th>\n",
              "      <td>0</td>\n",
              "    </tr>\n",
              "    <tr>\n",
              "      <th>date_posted</th>\n",
              "      <td>0</td>\n",
              "    </tr>\n",
              "    <tr>\n",
              "      <th>work_type</th>\n",
              "      <td>0</td>\n",
              "    </tr>\n",
              "    <tr>\n",
              "      <th>employment_type</th>\n",
              "      <td>0</td>\n",
              "    </tr>\n",
              "    <tr>\n",
              "      <th>description</th>\n",
              "      <td>0</td>\n",
              "    </tr>\n",
              "  </tbody>\n",
              "</table>\n",
              "</div><br><label><b>dtype:</b> int64</label>"
            ]
          },
          "metadata": {},
          "execution_count": 25
        }
      ]
    },
    {
      "cell_type": "markdown",
      "source": [
        "ENCOD CATEGORICAL VARIABLES"
      ],
      "metadata": {
        "id": "Yvwfn6teCBCl"
      }
    },
    {
      "cell_type": "markdown",
      "source": [],
      "metadata": {
        "id": "ozXFMzS4GCPD"
      }
    },
    {
      "cell_type": "code",
      "source": [
        "# Step 4: Drop Fully Missing Columns + Convert Data Types\n",
        "# Drop columns with 100% missing values\n",
        "df = df.drop(columns=['work_type', 'employment_type'], errors='ignore')\n",
        "\n",
        "# Convert date_posted to datetime\n",
        "df['date_posted'] = pd.to_datetime(df['date_posted'], errors='coerce')\n",
        "\n",
        "# Drop rows with critical nulls\n",
        "df.dropna(subset=['company', 'location', 'date_posted'], inplace=True)\n",
        "\n",
        "# Check final structure\n",
        "df.info()"
      ],
      "metadata": {
        "id": "ZKLxX5NnGCqV",
        "colab": {
          "base_uri": "https://localhost:8080/"
        },
        "outputId": "030b85c1-37a3-48a8-ffe2-8ffd901f3e11"
      },
      "execution_count": 20,
      "outputs": [
        {
          "output_type": "stream",
          "name": "stdout",
          "text": [
            "<class 'pandas.core.frame.DataFrame'>\n",
            "Index: 1012 entries, 0 to 1047\n",
            "Data columns (total 9 columns):\n",
            " #   Column         Non-Null Count  Dtype         \n",
            "---  ------         --------------  -----         \n",
            " 0   id             1012 non-null   int64         \n",
            " 1   title          1012 non-null   object        \n",
            " 2   company        1012 non-null   object        \n",
            " 3   location       1012 non-null   object        \n",
            " 4   link           1012 non-null   object        \n",
            " 5   source         933 non-null    object        \n",
            " 6   date_posted    1012 non-null   datetime64[ns]\n",
            " 7   description    1008 non-null   object        \n",
            " 8   posting_month  1012 non-null   object        \n",
            "dtypes: datetime64[ns](1), int64(1), object(7)\n",
            "memory usage: 79.1+ KB\n"
          ]
        }
      ]
    },
    {
      "cell_type": "markdown",
      "source": [],
      "metadata": {
        "id": "_ZBrzWdYGGSm"
      }
    },
    {
      "cell_type": "markdown",
      "source": [
        "Binary Encoding Yes/No - (1/0)"
      ],
      "metadata": {
        "id": "LMgDOuk2CUDs"
      }
    },
    {
      "source": [
        "df.isnull().sum()\n",
        "# Remove the dropna line as it might be removing all rows\n",
        "# df.dropna(inplace=True)\n",
        "# Fill missing values using the mean for numerical columns\n",
        "df.fillna(df.mean(numeric_only=True), inplace=True)\n",
        "# For categorical columns, you might need a different strategy, e.g., filling with mode or a constant\n",
        "# df.fillna(df.mode().iloc[0], inplace=True) # Example for mode, handle carefully with multiple modes\n",
        "# You should inspect which columns still have missing values after filling with mean\n",
        "print(\"Missing values after filling with mean:\")\n",
        "print(df.isnull().sum())\n",
        "\n",
        "# Show output\n",
        "# This will now likely show fewer or no missing values depending on your data"
      ],
      "cell_type": "code",
      "metadata": {
        "id": "FCzeTn9yCN9l",
        "colab": {
          "base_uri": "https://localhost:8080/"
        },
        "outputId": "9f7b5d8f-77e5-4514-b554-ce9675a872b6"
      },
      "execution_count": 19,
      "outputs": [
        {
          "output_type": "stream",
          "name": "stdout",
          "text": [
            "Missing values after filling with mean:\n",
            "id                0\n",
            "title             0\n",
            "company           0\n",
            "location          0\n",
            "link              0\n",
            "source           79\n",
            "date_posted       0\n",
            "description       4\n",
            "posting_month     0\n",
            "dtype: int64\n"
          ]
        }
      ]
    },
    {
      "cell_type": "markdown",
      "source": [
        "One Hot Encoding for Multi Class Columns"
      ],
      "metadata": {
        "id": "U4ZMo7MjCRZj"
      }
    },
    {
      "source": [
        "df.isnull().sum()\n",
        "\n",
        "# df.dropna(inplace=True)\n",
        "# Fill missing values using the mean for numerical columns\n",
        "df.fillna(df.mean(numeric_only=True), inplace=True)\n",
        "# For categorical columns, you might need a different strategy, e.g., filling with mode or a constant\n",
        "# df.fillna(df.mode().iloc[0], inplace=True) # Example for mode, handle carefully with multiple modes\n",
        "# You should inspect which columns still have missing values after filling with mean\n",
        "print(\"Missing values after filling with mean:\")\n",
        "print(df.isnull().sum())\n"
      ],
      "cell_type": "code",
      "metadata": {
        "id": "Ax7XCfqoCr1f",
        "colab": {
          "base_uri": "https://localhost:8080/"
        },
        "outputId": "420b1e5a-8296-44de-84d5-c9a1b23e4065"
      },
      "execution_count": 26,
      "outputs": [
        {
          "output_type": "stream",
          "name": "stdout",
          "text": [
            "Missing values after filling with mean:\n",
            "id                 0\n",
            "title              0\n",
            "company            0\n",
            "location           0\n",
            "link               0\n",
            "source             0\n",
            "date_posted        0\n",
            "work_type          0\n",
            "employment_type    0\n",
            "description        0\n",
            "dtype: int64\n"
          ]
        }
      ]
    },
    {
      "cell_type": "markdown",
      "source": [
        "EXPLORATORY DATA ANALYSIS (EDA)"
      ],
      "metadata": {
        "id": "vo1FzpG4DugE"
      }
    },
    {
      "cell_type": "markdown",
      "source": [
        "Churn Distribution"
      ],
      "metadata": {
        "id": "zZeEs3gjD6hx"
      }
    },
    {
      "source": [
        "# Ensure the DataFrame is not empty before proceeding\n",
        "if not df.empty:\n",
        "    # Perform One Hot Encoding for Multi Class Columns\n",
        "    # Check if the columns still exist before attempting to encode\n",
        "    cols_to_encode = ['InternetService', 'Contract', 'PaymentMethod', 'gender',\n",
        "                      'MultipleLines', 'OnlineSecurity', 'OnlineBackup',\n",
        "                      'DeviceProtection', 'TechSupport', 'StreamingTV', 'StreamingMovies']\n",
        "    # Filter out columns that are not present in the DataFrame\n",
        "    existing_cols_to_encode = [col for col in cols_to_encode if col in df.columns]\n",
        "\n",
        "    # Only perform get_dummies if there are columns to encode\n",
        "    if existing_cols_to_encode:\n",
        "        df = pd.get_dummies(df, columns=existing_cols_to_encode, drop_first=True)\n",
        "    else:\n",
        "        print(\"Warning: None of the specified columns for one-hot encoding were found in the DataFrame.\")\n",
        "\n",
        "\n",
        "# Fill missing values using the mean for numerical columns (this should handle cases where fillna earlier wasn't sufficient)\n",
        "# Ensure numeric_only is True to avoid errors with non-numeric types introduced by get_dummies\n",
        "df.fillna(df.mean(numeric_only=True), inplace=True)\n",
        "\n",
        "# You should inspect which columns still have missing values after filling with mean\n",
        "print(\"Missing values after filling with mean:\")\n",
        "print(df.isnull().sum())\n",
        "\n",
        "# Show output\n",
        "# This will now likely show fewer or no missing values depending on your data\n",
        "\n",
        "# Add this line to print the column names to verify\n",
        "print(\"\\nColumns in the DataFrame after encoding:\")\n",
        "print(df.columns)\n",
        "\n",
        "# Now plot the churn distribution\n",
        "# Check if the 'Churn' column exists before plotting\n",
        "if 'Churn' in df.columns:\n",
        "    sns.countplot(x='Churn', data=df)\n",
        "    plt.title('Customer Churn Distribution')\n",
        "    plt.show()\n",
        "else:\n",
        "    print(\"Warning: 'Churn' column not found in the DataFrame. Cannot plot churn distribution.\")"
      ],
      "cell_type": "code",
      "metadata": {
        "id": "Vy40UPuLElSN",
        "colab": {
          "base_uri": "https://localhost:8080/"
        },
        "outputId": "73c31597-62e2-4f7a-d98b-18ceb7eed5d9"
      },
      "execution_count": 27,
      "outputs": [
        {
          "output_type": "stream",
          "name": "stdout",
          "text": [
            "Missing values after filling with mean:\n",
            "id                 0\n",
            "title              0\n",
            "company            0\n",
            "location           0\n",
            "link               0\n",
            "source             0\n",
            "date_posted        0\n",
            "work_type          0\n",
            "employment_type    0\n",
            "description        0\n",
            "dtype: int64\n",
            "\n",
            "Columns in the DataFrame after encoding:\n",
            "Index(['id', 'title', 'company', 'location', 'link', 'source', 'date_posted',\n",
            "       'work_type', 'employment_type', 'description'],\n",
            "      dtype='object')\n",
            "Warning: 'Churn' column not found in the DataFrame. Cannot plot churn distribution.\n"
          ]
        }
      ]
    },
    {
      "cell_type": "markdown",
      "source": [
        "Step 5: Top JoB Titles"
      ],
      "metadata": {
        "id": "iJNmdo2WGgrL"
      }
    },
    {
      "cell_type": "code",
      "source": [
        "\n",
        "top_titles = df['title'].value_counts().head(10)\n",
        "sns.barplot(x=top_titles.values, y=top_titles.index, palette='viridis')\n",
        "plt.title(\"Top 10 Most Common Job Titles\")\n",
        "plt.xlabel(\"Count\")\n",
        "plt.ylabel(\"Job Title\")\n",
        "plt.show()"
      ],
      "metadata": {
        "id": "SrbD2tJyG7Fr",
        "colab": {
          "base_uri": "https://localhost:8080/",
          "height": 569
        },
        "outputId": "f260d063-54b2-4390-fa1b-c2bab8b92f7b"
      },
      "execution_count": 16,
      "outputs": [
        {
          "output_type": "stream",
          "name": "stderr",
          "text": [
            "/tmp/ipython-input-16-1404023946.py:2: FutureWarning: \n",
            "\n",
            "Passing `palette` without assigning `hue` is deprecated and will be removed in v0.14.0. Assign the `y` variable to `hue` and set `legend=False` for the same effect.\n",
            "\n",
            "  sns.barplot(x=top_titles.values, y=top_titles.index, palette='viridis')\n"
          ]
        },
        {
          "output_type": "display_data",
          "data": {
            "text/plain": [
              "<Figure size 1000x500 with 1 Axes>"
            ],
            "image/png": "[encoded data removed]"
          },
          "metadata": {}
        }
      ]
    },
    {
      "cell_type": "markdown",
      "source": [
        "Step 6: Top Hiring Companies"
      ],
      "metadata": {
        "id": "wPUk-TsvHKrp"
      }
    },
    {
      "cell_type": "code",
      "source": [
        "\n",
        "top_companies = df['company'].value_counts().head(10)\n",
        "sns.barplot(x=top_companies.values, y=top_companies.index, palette='coolwarm')\n",
        "plt.title(\"Top 10 Hiring Companies\")\n",
        "plt.xlabel(\"Count\")\n",
        "plt.ylabel(\"Company\")\n",
        "plt.show()\n"
      ],
      "metadata": {
        "id": "xV06ocbvHR1T",
        "colab": {
          "base_uri": "https://localhost:8080/",
          "height": 606
        },
        "outputId": "f8b3aae6-222b-4fd2-f0e4-eabcfa0768d1"
      },
      "execution_count": 10,
      "outputs": [
        {
          "output_type": "stream",
          "name": "stderr",
          "text": [
            "/tmp/ipython-input-10-1960639727.py:2: FutureWarning: \n",
            "\n",
            "Passing `palette` without assigning `hue` is deprecated and will be removed in v0.14.0. Assign the `y` variable to `hue` and set `legend=False` for the same effect.\n",
            "\n",
            "  sns.barplot(x=top_companies.values, y=top_companies.index, palette='coolwarm')\n"
          ]
        },
        {
          "output_type": "display_data",
          "data": {
            "text/plain": [
              "<Figure size 1000x500 with 1 Axes>"
            ],
            "image/png": "[encoded data removed]"
          },
          "metadata": {}
        }
      ]
    },
    {
      "cell_type": "markdown",
      "source": [
        "Step 7: Top Job Locations"
      ],
      "metadata": {
        "id": "K187KPeiHWOL"
      }
    },
    {
      "cell_type": "code",
      "source": [
        "top_locations = df['location'].value_counts().head(10)\n",
        "sns.barplot(x=top_locations.values, y=top_locations.index, palette='Set2')\n",
        "plt.title(\"Top 10 Job Locations\")\n",
        "plt.xlabel(\"Count\")\n",
        "plt.ylabel(\"Location\")\n",
        "plt.show()"
      ],
      "metadata": {
        "id": "nveekCoCHbza",
        "colab": {
          "base_uri": "https://localhost:8080/",
          "height": 566
        },
        "outputId": "36623757-c1e8-4aca-8bad-93e5d7bb47de"
      },
      "execution_count": 13,
      "outputs": [
        {
          "output_type": "stream",
          "name": "stderr",
          "text": [
            "/tmp/ipython-input-13-1112928415.py:2: FutureWarning: \n",
            "\n",
            "Passing `palette` without assigning `hue` is deprecated and will be removed in v0.14.0. Assign the `y` variable to `hue` and set `legend=False` for the same effect.\n",
            "\n",
            "  sns.barplot(x=top_locations.values, y=top_locations.index, palette='Set2')\n"
          ]
        },
        {
          "output_type": "display_data",
          "data": {
            "text/plain": [
              "<Figure size 1000x500 with 1 Axes>"
            ],
            "image/png": "[encoded data removed]"
          },
          "metadata": {}
        }
      ]
    },
    {
      "cell_type": "markdown",
      "source": [
        "Step 8: Posting Overtime"
      ],
      "metadata": {
        "id": "Yh5iny7THks2"
      }
    },
    {
      "cell_type": "code",
      "source": [
        "df['posting_month'] = df['date_posted'].dt.to_period('M').astype(str)\n",
        "monthly_counts = df['posting_month'].value_counts().sort_index()\n",
        "sns.lineplot(x=monthly_counts.index, y=monthly_counts.values, marker='o')\n",
        "plt.title(\"Job Postings Over Time\")\n",
        "plt.xlabel(\"Month\")\n",
        "plt.ylabel(\"Number of Postings\")\n",
        "plt.xticks(rotation=45)\n",
        "plt.show()"
      ],
      "metadata": {
        "id": "0g68nhszHoJo",
        "colab": {
          "base_uri": "https://localhost:8080/",
          "height": 536
        },
        "outputId": "cea7cb94-d30f-4463-9b73-e66b67e2d84b"
      },
      "execution_count": 14,
      "outputs": [
        {
          "output_type": "display_data",
          "data": {
            "text/plain": [
              "<Figure size 1000x500 with 1 Axes>"
            ],
            "image/png": "[encoded data removed]"
          },
          "metadata": {}
        }
      ]
    },
    {
      "cell_type": "markdown",
      "source": [
        "Step 9: Top Sources"
      ],
      "metadata": {
        "id": "95BxD8WrHvUD"
      }
    },
    {
      "cell_type": "code",
      "source": [
        "top_sources = df['source'].value_counts().head(5)\n",
        "sns.barplot(x=top_sources.values, y=top_sources.index, palette='Blues_d')\n",
        "plt.title(\"Top Job Posting Sources\")\n",
        "plt.xlabel(\"Count\")\n",
        "plt.ylabel(\"Source\")\n",
        "plt.show()"
      ],
      "metadata": {
        "id": "OOnWxIhiHzpp",
        "colab": {
          "base_uri": "https://localhost:8080/",
          "height": 606
        },
        "outputId": "0762f844-1335-4437-d524-51df2ee281b2"
      },
      "execution_count": 15,
      "outputs": [
        {
          "output_type": "stream",
          "name": "stderr",
          "text": [
            "/tmp/ipython-input-15-2075068911.py:2: FutureWarning: \n",
            "\n",
            "Passing `palette` without assigning `hue` is deprecated and will be removed in v0.14.0. Assign the `y` variable to `hue` and set `legend=False` for the same effect.\n",
            "\n",
            "  sns.barplot(x=top_sources.values, y=top_sources.index, palette='Blues_d')\n"
          ]
        },
        {
          "output_type": "display_data",
          "data": {
            "text/plain": [
              "<Figure size 1000x500 with 1 Axes>"
            ],
            "image/png": "[encoded data removed]"
          },
          "metadata": {}
        }
      ]
    },
    {
      "cell_type": "markdown",
      "source": [
        "Correlation Heatmap"
      ],
      "metadata": {
        "id": "dlP9QWlLIQke"
      }
    },
    {
      "source": [
        "# Select only numerical columns for correlation calculation\n",
        "df_numeric = df.select_dtypes(include=np.number)\n",
        "\n",
        "plt.figure(figsize=(16, 10))\n",
        "# Calculate and plot the heatmap for the numerical columns\n",
        "sns.heatmap(df_numeric.corr(), cmap='coolwarm', annot=False)\n",
        "plt.title(\"Correlation Matrix of Numerical Columns\")\n",
        "plt.show()"
      ],
      "cell_type": "code",
      "metadata": {
        "id": "e5aKKRKdIhDw",
        "colab": {
          "base_uri": "https://localhost:8080/",
          "height": 783
        },
        "outputId": "0c08ad19-792a-44b6-9fda-0a9edb877b1c"
      },
      "execution_count": 28,
      "outputs": [
        {
          "output_type": "stream",
          "name": "stderr",
          "text": [
            "/usr/local/lib/python3.11/dist-packages/seaborn/matrix.py:202: RuntimeWarning: All-NaN slice encountered\n",
            "  vmin = np.nanmin(calc_data)\n",
            "/usr/local/lib/python3.11/dist-packages/seaborn/matrix.py:207: RuntimeWarning: All-NaN slice encountered\n",
            "  vmax = np.nanmax(calc_data)\n"
          ]
        },
        {
          "output_type": "display_data",
          "data": {
            "text/plain": [
              "<Figure size 1600x1000 with 2 Axes>"
            ],
            "image/png": "[encoded data removed]"
          },
          "metadata": {}
        }
      ]
    },
    {
      "cell_type": "markdown",
      "source": [
        "Tenure Distribution"
      ],
      "metadata": {
        "id": "5DpS7GQnItIv"
      }
    },
    {
      "source": [
        "plt.figure(figsize=(10,6))\n",
        "# Check if 'tenure' and 'Churn' columns exist before plotting\n",
        "# If these columns are not in your dataset, you should remove or replace the following line\n",
        "# sns.histplot(data=df, x='tenure', hue='Churn', bins=30, kde=True)\n",
        "# plt.title('Tenure Distribution by Churn')\n",
        "# plt.show()"
      ],
      "cell_type": "code",
      "metadata": {
        "id": "uh_oUh7CI33w",
        "colab": {
          "base_uri": "https://localhost:8080/",
          "height": 53
        },
        "outputId": "c2d34ad9-95c1-42c3-afdf-123bdbe3e4f6"
      },
      "execution_count": 29,
      "outputs": [
        {
          "output_type": "execute_result",
          "data": {
            "text/plain": [
              "<Figure size 1000x600 with 0 Axes>"
            ]
          },
          "metadata": {},
          "execution_count": 29
        },
        {
          "output_type": "display_data",
          "data": {
            "text/plain": [
              "<Figure size 1000x600 with 0 Axes>"
            ]
          },
          "metadata": {}
        }
      ]
    },
    {
      "source": [
        "# Select only numerical columns for correlation calculation\n",
        "df_numeric = df.select_dtypes(include=np.number)\n",
        "\n",
        "plt.figure(figsize=(16, 10))\n",
        "# Calculate and plot the heatmap for the numerical columns\n",
        "sns.heatmap(df_numeric.corr(), cmap='coolwarm', annot=False)\n",
        "plt.title(\"Correlation Matrix of Numerical Columns\")\n",
        "plt.show()\n",
        "\n",
        "# Add this line to print the columns in your DataFrame\n",
        "print(\"Columns in the DataFrame before attempting to plot tenure:\")\n",
        "print(df.columns)\n",
        "\n",
        "plt.figure(figsize=(10,6))\n",
        "\n",
        "# Check if 'tenure' and 'Churn' exist in the DataFrame before plotting\n",
        "if 'tenure' in df.columns and 'Churn' in df.columns:\n",
        "    sns.histplot(data=df, x='tenure', hue='Churn', bins=30, kde=True)\n",
        "    plt.title('Tenure Distribution by Churn')\n",
        "    plt.show()\n",
        "else:\n",
        "    print(\"Warning: 'tenure' or 'Churn' column not found in the DataFrame. Cannot plot tenure distribution.\")"
      ],
      "cell_type": "code",
      "metadata": {
        "id": "BqKUmT3JJYbc",
        "colab": {
          "base_uri": "https://localhost:8080/",
          "height": 892
        },
        "outputId": "828906b0-cf10-4c8e-bfbf-ee306ed1799a"
      },
      "execution_count": 30,
      "outputs": [
        {
          "output_type": "stream",
          "name": "stderr",
          "text": [
            "/usr/local/lib/python3.11/dist-packages/seaborn/matrix.py:202: RuntimeWarning: All-NaN slice encountered\n",
            "  vmin = np.nanmin(calc_data)\n",
            "/usr/local/lib/python3.11/dist-packages/seaborn/matrix.py:207: RuntimeWarning: All-NaN slice encountered\n",
            "  vmax = np.nanmax(calc_data)\n"
          ]
        },
        {
          "output_type": "display_data",
          "data": {
            "text/plain": [
              "<Figure size 1600x1000 with 2 Axes>"
            ],
            "image/png": "[encoded data removed]"
          },
          "metadata": {}
        },
        {
          "output_type": "stream",
          "name": "stdout",
          "text": [
            "Columns in the DataFrame before attempting to plot tenure:\n",
            "Index(['id', 'title', 'company', 'location', 'link', 'source', 'date_posted',\n",
            "       'work_type', 'employment_type', 'description'],\n",
            "      dtype='object')\n",
            "Warning: 'tenure' or 'Churn' column not found in the DataFrame. Cannot plot tenure distribution.\n"
          ]
        },
        {
          "output_type": "display_data",
          "data": {
            "text/plain": [
              "<Figure size 1000x600 with 0 Axes>"
            ]
          },
          "metadata": {}
        }
      ]
    },
    {
      "cell_type": "markdown",
      "source": [
        "SUMMARY\n",
        "\n",
        "---\n",
        "\n",
        "\n"
      ],
      "metadata": {
        "id": "08_5QYMJH3ya"
      }
    },
    {
      "cell_type": "markdown",
      "source": [],
      "metadata": {
        "id": "4UNExbr_IAWJ"
      }
    },
    {
      "cell_type": "code",
      "source": [
        "print(\" Dataset shape after cleaning:\", df.shape)\n",
        "print(\"\\n Insights:\")\n",
        "print(\"- Most jobs are for 'Data Analyst' roles\")\n",
        "print(\"- Top hiring cities: New York, SF, LA\")\n",
        "print(\"- LinkedIn is the most used source\")\n",
        "print(\"- Job postings vary monthly — possibly seasonal hiring\")\n"
      ],
      "metadata": {
        "id": "T90Rk-8ZIEZw",
        "colab": {
          "base_uri": "https://localhost:8080/"
        },
        "outputId": "04d22db0-960b-49d9-a14b-7a8e7d15351f"
      },
      "execution_count": 31,
      "outputs": [
        {
          "output_type": "stream",
          "name": "stdout",
          "text": [
            " Dataset shape after cleaning: (0, 10)\n",
            "\n",
            " Insights:\n",
            "- Most jobs are for 'Data Analyst' roles\n",
            "- Top hiring cities: New York, SF, LA\n",
            "- LinkedIn is the most used source\n",
            "- Job postings vary monthly — possibly seasonal hiring\n"
          ]
        }
      ]
    },
    {
      "cell_type": "markdown",
      "source": [
        "Q.2\n",
        "\n",
        "---\n",
        "\n",
        "Apply Decision Tree, XGBoost and K-Means Clustering algorithms to analyse the business/social\n",
        "problem in question. For each algorithm, write a python code and clearly describe each step of it (related\n",
        "to LO2 and LO3.)"
      ],
      "metadata": {
        "id": "L2dHpZE6Jz4S"
      }
    },
    {
      "cell_type": "markdown",
      "source": [
        "Load Libraries and Upload the dataset"
      ],
      "metadata": {
        "id": "6x39S6UsN5B7"
      }
    },
    {
      "cell_type": "code",
      "source": [
        "# Install necessary libraries\n",
        "!pip install xgboost --quiet\n",
        "\n",
        "# Import libraries\n",
        "import pandas as pd\n",
        "import numpy as np\n",
        "import matplotlib.pyplot as plt\n",
        "import seaborn as sns\n",
        "import xgboost as xgb\n",
        "\n",
        "from sklearn.model_selection import train_test_split\n",
        "from sklearn.tree import DecisionTreeClassifier, plot_tree\n",
        "from sklearn.metrics import classification_report, confusion_matrix\n",
        "from sklearn.feature_extraction.text import TfidfVectorizer\n",
        "from sklearn.cluster import KMeans\n",
        "from sklearn.decomposition import PCA\n",
        "\n",
        "sns.set(style=\"whitegrid\")\n"
      ],
      "metadata": {
        "id": "L6j6YScNdeS2"
      },
      "execution_count": 34,
      "outputs": []
    },
    {
      "cell_type": "code",
      "source": [
        "# Upload CSV file\n",
        "from google.colab import files\n",
        "uploaded = files.upload()\n",
        "\n",
        "# Load dataset\n",
        "df = pd.read_csv('clean_jobs.csv')\n",
        "df.drop(columns=['work_type', 'employment_type'], errors='ignore', inplace=True)\n",
        "df.dropna(subset=['description', 'company', 'location'], inplace=True)\n"
      ],
      "metadata": {
        "collapsed": true,
        "id": "PhkGnDUEdnt0",
        "colab": {
          "base_uri": "https://localhost:8080/",
          "height": 73
        },
        "outputId": "b7e9e1a0-203d-4372-c36f-ef48636639fd"
      },
      "execution_count": 32,
      "outputs": [
        {
          "output_type": "display_data",
          "data": {
            "text/plain": [
              "<IPython.core.display.HTML object>"
            ],
            "text/html": [
              "\n",
              "     <input type=\"file\" id=\"files-e1430a8a-d66a-4001-81cf-370f0fbc1b96\" name=\"files[]\" multiple disabled\n",
              "        style=\"border:none\" />\n",
              "     <output id=\"result-e1430a8a-d66a-4001-81cf-370f0fbc1b96\">\n",
              "      Upload widget is only available when the cell has been executed in the\n",
              "      current browser session. Please rerun this cell to enable.\n",
              "      </output>\n",
              "      <script>// Copyright 2017 Google LLC\n",
              "//\n",
              "// Licensed under the Apache License, Version 2.0 (the \"License\");\n",
              "// you may not use this file except in compliance with the License.\n",
              "// You may obtain a copy of the License at\n",
              "//\n",
              "//      http://www.apache.org/licenses/LICENSE-2.0\n",
              "//\n",
              "// Unless required by applicable law or agreed to in writing, software\n",
              "// distributed under the License is distributed on an \"AS IS\" BASIS,\n",
              "// WITHOUT WARRANTIES OR CONDITIONS OF ANY KIND, either express or implied.\n",
              "// See the License for the specific language governing permissions and\n",
              "// limitations under the License.\n",
              "\n",
              "/**\n",
              " * @fileoverview Helpers for google.colab Python module.\n",
              " */\n",
              "(function(scope) {\n",
              "function span(text, styleAttributes = {}) {\n",
              "  const element = document.createElement('span');\n",
              "  element.textContent = text;\n",
              "  for (const key of Object.keys(styleAttributes)) {\n",
              "    element.style[key] = styleAttributes[key];\n",
              "  }\n",
              "  return element;\n",
              "}\n",
              "\n",
              "// Max number of bytes which will be uploaded at a time.\n",
              "const MAX_PAYLOAD_SIZE = 100 * 1024;\n",
              "\n",
              "function _uploadFiles(inputId, outputId) {\n",
              "  const steps = uploadFilesStep(inputId, outputId);\n",
              "  const outputElement = document.getElementById(outputId);\n",
              "  // Cache steps on the outputElement to make it available for the next call\n",
              "  // to uploadFilesContinue from Python.\n",
              "  outputElement.steps = steps;\n",
              "\n",
              "  return _uploadFilesContinue(outputId);\n",
              "}\n",
              "\n",
              "// This is roughly an async generator (not supported in the browser yet),\n",
              "// where there are multiple asynchronous steps and the Python side is going\n",
              "// to poll for completion of each step.\n",
              "// This uses a Promise to block the python side on completion of each step,\n",
              "// then passes the result of the previous step as the input to the next step.\n",
              "function _uploadFilesContinue(outputId) {\n",
              "  const outputElement = document.getElementById(outputId);\n",
              "  const steps = outputElement.steps;\n",
              "\n",
              "  const next = steps.next(outputElement.lastPromiseValue);\n",
              "  return Promise.resolve(next.value.promise).then((value) => {\n",
              "    // Cache the last promise value to make it available to the next\n",
              "    // step of the generator.\n",
              "    outputElement.lastPromiseValue = value;\n",
              "    return next.value.response;\n",
              "  });\n",
              "}\n",
              "\n",
              "/**\n",
              " * Generator function which is called between each async step of the upload\n",
              " * process.\n",
              " * @param {string} inputId Element ID of the input file picker element.\n",
              " * @param {string} outputId Element ID of the output display.\n",
              " * @return {!Iterable<!Object>} Iterable of next steps.\n",
              " */\n",
              "function* uploadFilesStep(inputId, outputId) {\n",
              "  const inputElement = document.getElementById(inputId);\n",
              "  inputElement.disabled = false;\n",
              "\n",
              "  const outputElement = document.getElementById(outputId);\n",
              "  outputElement.innerHTML = '';\n",
              "\n",
              "  const pickedPromise = new Promise((resolve) => {\n",
              "    inputElement.addEventListener('change', (e) => {\n",
              "      resolve(e.target.files);\n",
              "    });\n",
              "  });\n",
              "\n",
              "  const cancel = document.createElement('button');\n",
              "  inputElement.parentElement.appendChild(cancel);\n",
              "  cancel.textContent = 'Cancel upload';\n",
              "  const cancelPromise = new Promise((resolve) => {\n",
              "    cancel.onclick = () => {\n",
              "      resolve(null);\n",
              "    };\n",
              "  });\n",
              "\n",
              "  // Wait for the user to pick the files.\n",
              "  const files = yield {\n",
              "    promise: Promise.race([pickedPromise, cancelPromise]),\n",
              "    response: {\n",
              "      action: 'starting',\n",
              "    }\n",
              "  };\n",
              "\n",
              "  cancel.remove();\n",
              "\n",
              "  // Disable the input element since further picks are not allowed.\n",
              "  inputElement.disabled = true;\n",
              "\n",
              "  if (!files) {\n",
              "    return {\n",
              "      response: {\n",
              "        action: 'complete',\n",
              "      }\n",
              "    };\n",
              "  }\n",
              "\n",
              "  for (const file of files) {\n",
              "    const li = document.createElement('li');\n",
              "    li.append(span(file.name, {fontWeight: 'bold'}));\n",
              "    li.append(span(\n",
              "        `(${file.type || 'n/a'}) - ${file.size} bytes, ` +\n",
              "        `last modified: ${\n",
              "            file.lastModifiedDate ? file.lastModifiedDate.toLocaleDateString() :\n",
              "                                    'n/a'} - `));\n",
              "    const percent = span('0% done');\n",
              "    li.appendChild(percent);\n",
              "\n",
              "    outputElement.appendChild(li);\n",
              "\n",
              "    const fileDataPromise = new Promise((resolve) => {\n",
              "      const reader = new FileReader();\n",
              "      reader.onload = (e) => {\n",
              "        resolve(e.target.result);\n",
              "      };\n",
              "      reader.readAsArrayBuffer(file);\n",
              "    });\n",
              "    // Wait for the data to be ready.\n",
              "    let fileData = yield {\n",
              "      promise: fileDataPromise,\n",
              "      response: {\n",
              "        action: 'continue',\n",
              "      }\n",
              "    };\n",
              "\n",
              "    // Use a chunked sending to avoid message size limits. See b/62115660.\n",
              "    let position = 0;\n",
              "    do {\n",
              "      const length = Math.min(fileData.byteLength - position, MAX_PAYLOAD_SIZE);\n",
              "      const chunk = new Uint8Array(fileData, position, length);\n",
              "      position += length;\n",
              "\n",
              "      const base64 = btoa(String.fromCharCode.apply(null, chunk));\n",
              "      yield {\n",
              "        response: {\n",
              "          action: 'append',\n",
              "          file: file.name,\n",
              "          data: base64,\n",
              "        },\n",
              "      };\n",
              "\n",
              "      let percentDone = fileData.byteLength === 0 ?\n",
              "          100 :\n",
              "          Math.round((position / fileData.byteLength) * 100);\n",
              "      percent.textContent = `${percentDone}% done`;\n",
              "\n",
              "    } while (position < fileData.byteLength);\n",
              "  }\n",
              "\n",
              "  // All done.\n",
              "  yield {\n",
              "    response: {\n",
              "      action: 'complete',\n",
              "    }\n",
              "  };\n",
              "}\n",
              "\n",
              "scope.google = scope.google || {};\n",
              "scope.google.colab = scope.google.colab || {};\n",
              "scope.google.colab._files = {\n",
              "  _uploadFiles,\n",
              "  _uploadFilesContinue,\n",
              "};\n",
              "})(self);\n",
              "</script> "
            ]
          },
          "metadata": {}
        },
        {
          "output_type": "stream",
          "name": "stdout",
          "text": [
            "Saving clean_jobs.csv to clean_jobs (1).csv\n"
          ]
        }
      ]
    },
    {
      "cell_type": "markdown",
      "source": [
        "FEATURE ENGINEERING\n",
        "Create Target Column"
      ],
      "metadata": {
        "id": "Qih4NbXSd3q4"
      }
    },
    {
      "cell_type": "code",
      "source": [
        "# Create a binary column: is_remote_job based on keywords in description\n",
        "df['is_remote_job'] = df['description'].str.contains(r'\\b(remote|work from home|hybrid)\\b', case=False).astype(int)\n",
        "df['is_remote_job'].value_counts()\n"
      ],
      "metadata": {
        "id": "xKT_NFWid_4z",
        "colab": {
          "base_uri": "https://localhost:8080/",
          "height": 234
        },
        "outputId": "fae1aa69-42f8-4850-b233-6ab1c9b1f659"
      },
      "execution_count": 35,
      "outputs": [
        {
          "output_type": "stream",
          "name": "stderr",
          "text": [
            "/tmp/ipython-input-35-690808465.py:2: UserWarning: This pattern is interpreted as a regular expression, and has match groups. To actually get the groups, use str.extract.\n",
            "  df['is_remote_job'] = df['description'].str.contains(r'\\b(remote|work from home|hybrid)\\b', case=False).astype(int)\n"
          ]
        },
        {
          "output_type": "execute_result",
          "data": {
            "text/plain": [
              "is_remote_job\n",
              "0    732\n",
              "1    295\n",
              "Name: count, dtype: int64"
            ],
            "text/html": [
              "<div>\n",
              "<style scoped>\n",
              "    .dataframe tbody tr th:only-of-type {\n",
              "        vertical-align: middle;\n",
              "    }\n",
              "\n",
              "    .dataframe tbody tr th {\n",
              "        vertical-align: top;\n",
              "    }\n",
              "\n",
              "    .dataframe thead th {\n",
              "        text-align: right;\n",
              "    }\n",
              "</style>\n",
              "<table border=\"1\" class=\"dataframe\">\n",
              "  <thead>\n",
              "    <tr style=\"text-align: right;\">\n",
              "      <th></th>\n",
              "      <th>count</th>\n",
              "    </tr>\n",
              "    <tr>\n",
              "      <th>is_remote_job</th>\n",
              "      <th></th>\n",
              "    </tr>\n",
              "  </thead>\n",
              "  <tbody>\n",
              "    <tr>\n",
              "      <th>0</th>\n",
              "      <td>732</td>\n",
              "    </tr>\n",
              "    <tr>\n",
              "      <th>1</th>\n",
              "      <td>295</td>\n",
              "    </tr>\n",
              "  </tbody>\n",
              "</table>\n",
              "</div><br><label><b>dtype:</b> int64</label>"
            ]
          },
          "metadata": {},
          "execution_count": 35
        }
      ]
    },
    {
      "cell_type": "markdown",
      "source": [
        "Text Vectorization using TF-IDF"
      ],
      "metadata": {
        "id": "hBBAWyG9eDYR"
      }
    },
    {
      "cell_type": "code",
      "source": [
        "# Vectorize the job description\n",
        "vectorizer = TfidfVectorizer(stop_words='english', max_features=1000)\n",
        "X_text = vectorizer.fit_transform(df['description'])\n",
        "\n",
        "# Convert to DataFrame for merging with other features\n",
        "X_text_df = pd.DataFrame(X_text.toarray(), columns=vectorizer.get_feature_names_out())\n",
        "#display output\n",
        "X_text_df.head()"
      ],
      "metadata": {
        "id": "HtxM8CYPeNKC",
        "colab": {
          "base_uri": "https://localhost:8080/",
          "height": 255
        },
        "outputId": "a9e13631-4173-4732-828a-425431640f63"
      },
      "execution_count": 36,
      "outputs": [
        {
          "output_type": "execute_result",
          "data": {
            "text/plain": [
              "    00       000   10       100   20     2004   25       2d   30  401  ...  \\\n",
              "0  0.0  0.052885  0.0  0.000000  0.0  0.04712  0.0  0.04712  0.0  0.0  ...   \n",
              "1  0.0  0.052885  0.0  0.000000  0.0  0.04712  0.0  0.04712  0.0  0.0  ...   \n",
              "2  0.0  0.052885  0.0  0.000000  0.0  0.04712  0.0  0.04712  0.0  0.0  ...   \n",
              "3  0.0  0.052885  0.0  0.000000  0.0  0.04712  0.0  0.04712  0.0  0.0  ...   \n",
              "4  0.0  0.000000  0.0  0.044935  0.0  0.00000  0.0  0.00000  0.0  0.0  ...   \n",
              "\n",
              "   workplace  works     world  worldwide  writing  written  www      year  \\\n",
              "0   0.000000    0.0  0.023798        0.0      0.0      0.0  0.0  0.059127   \n",
              "1   0.000000    0.0  0.023798        0.0      0.0      0.0  0.0  0.059127   \n",
              "2   0.000000    0.0  0.023798        0.0      0.0      0.0  0.0  0.059127   \n",
              "3   0.000000    0.0  0.023798        0.0      0.0      0.0  0.0  0.059127   \n",
              "4   0.041719    0.0  0.026376        0.0      0.0      0.0  0.0  0.000000   \n",
              "\n",
              "      years  york  \n",
              "0  0.056068   0.0  \n",
              "1  0.056068   0.0  \n",
              "2  0.056068   0.0  \n",
              "3  0.056068   0.0  \n",
              "4  0.020714   0.0  \n",
              "\n",
              "[5 rows x 1000 columns]"
            ],
            "text/html": [
              "\n",
              "  <div id=\"df-d24a1e2f-12b0-444f-ba34-e1796c86e434\" class=\"colab-df-container\">\n",
              "    <div>\n",
              "<style scoped>\n",
              "    .dataframe tbody tr th:only-of-type {\n",
              "        vertical-align: middle;\n",
              "    }\n",
              "\n",
              "    .dataframe tbody tr th {\n",
              "        vertical-align: top;\n",
              "    }\n",
              "\n",
              "    .dataframe thead th {\n",
              "        text-align: right;\n",
              "    }\n",
              "</style>\n",
              "<table border=\"1\" class=\"dataframe\">\n",
              "  <thead>\n",
              "    <tr style=\"text-align: right;\">\n",
              "      <th></th>\n",
              "      <th>00</th>\n",
              "      <th>000</th>\n",
              "      <th>10</th>\n",
              "      <th>100</th>\n",
              "      <th>20</th>\n",
              "      <th>2004</th>\n",
              "      <th>25</th>\n",
              "      <th>2d</th>\n",
              "      <th>30</th>\n",
              "      <th>401</th>\n",
              "      <th>...</th>\n",
              "      <th>workplace</th>\n",
              "      <th>works</th>\n",
              "      <th>world</th>\n",
              "      <th>worldwide</th>\n",
              "      <th>writing</th>\n",
              "      <th>written</th>\n",
              "      <th>www</th>\n",
              "      <th>year</th>\n",
              "      <th>years</th>\n",
              "      <th>york</th>\n",
              "    </tr>\n",
              "  </thead>\n",
              "  <tbody>\n",
              "    <tr>\n",
              "      <th>0</th>\n",
              "      <td>0.0</td>\n",
              "      <td>0.052885</td>\n",
              "      <td>0.0</td>\n",
              "      <td>0.000000</td>\n",
              "      <td>0.0</td>\n",
              "      <td>0.04712</td>\n",
              "      <td>0.0</td>\n",
              "      <td>0.04712</td>\n",
              "      <td>0.0</td>\n",
              "      <td>0.0</td>\n",
              "      <td>...</td>\n",
              "      <td>0.000000</td>\n",
              "      <td>0.0</td>\n",
              "      <td>0.023798</td>\n",
              "      <td>0.0</td>\n",
              "      <td>0.0</td>\n",
              "      <td>0.0</td>\n",
              "      <td>0.0</td>\n",
              "      <td>0.059127</td>\n",
              "      <td>0.056068</td>\n",
              "      <td>0.0</td>\n",
              "    </tr>\n",
              "    <tr>\n",
              "      <th>1</th>\n",
              "      <td>0.0</td>\n",
              "      <td>0.052885</td>\n",
              "      <td>0.0</td>\n",
              "      <td>0.000000</td>\n",
              "      <td>0.0</td>\n",
              "      <td>0.04712</td>\n",
              "      <td>0.0</td>\n",
              "      <td>0.04712</td>\n",
              "      <td>0.0</td>\n",
              "      <td>0.0</td>\n",
              "      <td>...</td>\n",
              "      <td>0.000000</td>\n",
              "      <td>0.0</td>\n",
              "      <td>0.023798</td>\n",
              "      <td>0.0</td>\n",
              "      <td>0.0</td>\n",
              "      <td>0.0</td>\n",
              "      <td>0.0</td>\n",
              "      <td>0.059127</td>\n",
              "      <td>0.056068</td>\n",
              "      <td>0.0</td>\n",
              "    </tr>\n",
              "    <tr>\n",
              "      <th>2</th>\n",
              "      <td>0.0</td>\n",
              "      <td>0.052885</td>\n",
              "      <td>0.0</td>\n",
              "      <td>0.000000</td>\n",
              "      <td>0.0</td>\n",
              "      <td>0.04712</td>\n",
              "      <td>0.0</td>\n",
              "      <td>0.04712</td>\n",
              "      <td>0.0</td>\n",
              "      <td>0.0</td>\n",
              "      <td>...</td>\n",
              "      <td>0.000000</td>\n",
              "      <td>0.0</td>\n",
              "      <td>0.023798</td>\n",
              "      <td>0.0</td>\n",
              "      <td>0.0</td>\n",
              "      <td>0.0</td>\n",
              "      <td>0.0</td>\n",
              "      <td>0.059127</td>\n",
              "      <td>0.056068</td>\n",
              "      <td>0.0</td>\n",
              "    </tr>\n",
              "    <tr>\n",
              "      <th>3</th>\n",
              "      <td>0.0</td>\n",
              "      <td>0.052885</td>\n",
              "      <td>0.0</td>\n",
              "      <td>0.000000</td>\n",
              "      <td>0.0</td>\n",
              "      <td>0.04712</td>\n",
              "      <td>0.0</td>\n",
              "      <td>0.04712</td>\n",
              "      <td>0.0</td>\n",
              "      <td>0.0</td>\n",
              "      <td>...</td>\n",
              "      <td>0.000000</td>\n",
              "      <td>0.0</td>\n",
              "      <td>0.023798</td>\n",
              "      <td>0.0</td>\n",
              "      <td>0.0</td>\n",
              "      <td>0.0</td>\n",
              "      <td>0.0</td>\n",
              "      <td>0.059127</td>\n",
              "      <td>0.056068</td>\n",
              "      <td>0.0</td>\n",
              "    </tr>\n",
              "    <tr>\n",
              "      <th>4</th>\n",
              "      <td>0.0</td>\n",
              "      <td>0.000000</td>\n",
              "      <td>0.0</td>\n",
              "      <td>0.044935</td>\n",
              "      <td>0.0</td>\n",
              "      <td>0.00000</td>\n",
              "      <td>0.0</td>\n",
              "      <td>0.00000</td>\n",
              "      <td>0.0</td>\n",
              "      <td>0.0</td>\n",
              "      <td>...</td>\n",
              "      <td>0.041719</td>\n",
              "      <td>0.0</td>\n",
              "      <td>0.026376</td>\n",
              "      <td>0.0</td>\n",
              "      <td>0.0</td>\n",
              "      <td>0.0</td>\n",
              "      <td>0.0</td>\n",
              "      <td>0.000000</td>\n",
              "      <td>0.020714</td>\n",
              "      <td>0.0</td>\n",
              "    </tr>\n",
              "  </tbody>\n",
              "</table>\n",
              "<p>5 rows × 1000 columns</p>\n",
              "</div>\n",
              "    <div class=\"colab-df-buttons\">\n",
              "\n",
              "  <div class=\"colab-df-container\">\n",
              "    <button class=\"colab-df-convert\" onclick=\"convertToInteractive('df-d24a1e2f-12b0-444f-ba34-e1796c86e434')\"\n",
              "            title=\"Convert this dataframe to an interactive table.\"\n",
              "            style=\"display:none;\">\n",
              "\n",
              "  <svg xmlns=\"http://www.w3.org/2000/svg\" height=\"24px\" viewBox=\"0 -960 960 960\">\n",
              "    <path d=\"M120-120v-720h720v720H120Zm60-500h600v-160H180v160Zm220 220h160v-160H400v160Zm0 220h160v-160H400v160ZM180-400h160v-160H180v160Zm440 0h160v-160H620v160ZM180-180h160v-160H180v160Zm440 0h160v-160H620v160Z\"/>\n",
              "  </svg>\n",
              "    </button>\n",
              "\n",
              "  <style>\n",
              "    .colab-df-container {\n",
              "      display:flex;\n",
              "      gap: 12px;\n",
              "    }\n",
              "\n",
              "    .colab-df-convert {\n",
              "      background-color: #E8F0FE;\n",
              "      border: none;\n",
              "      border-radius: 50%;\n",
              "      cursor: pointer;\n",
              "      display: none;\n",
              "      fill: #1967D2;\n",
              "      height: 32px;\n",
              "      padding: 0 0 0 0;\n",
              "      width: 32px;\n",
              "    }\n",
              "\n",
              "    .colab-df-convert:hover {\n",
              "      background-color: #E2EBFA;\n",
              "      box-shadow: 0px 1px 2px rgba(60, 64, 67, 0.3), 0px 1px 3px 1px rgba(60, 64, 67, 0.15);\n",
              "      fill: #174EA6;\n",
              "    }\n",
              "\n",
              "    .colab-df-buttons div {\n",
              "      margin-bottom: 4px;\n",
              "    }\n",
              "\n",
              "    [theme=dark] .colab-df-convert {\n",
              "      background-color: #3B4455;\n",
              "      fill: #D2E3FC;\n",
              "    }\n",
              "\n",
              "    [theme=dark] .colab-df-convert:hover {\n",
              "      background-color: #434B5C;\n",
              "      box-shadow: 0px 1px 3px 1px rgba(0, 0, 0, 0.15);\n",
              "      filter: drop-shadow(0px 1px 2px rgba(0, 0, 0, 0.3));\n",
              "      fill: #FFFFFF;\n",
              "    }\n",
              "  </style>\n",
              "\n",
              "    <script>\n",
              "      const buttonEl =\n",
              "        document.querySelector('#df-d24a1e2f-12b0-444f-ba34-e1796c86e434 button.colab-df-convert');\n",
              "      buttonEl.style.display =\n",
              "        google.colab.kernel.accessAllowed ? 'block' : 'none';\n",
              "\n",
              "      async function convertToInteractive(key) {\n",
              "        const element = document.querySelector('#df-d24a1e2f-12b0-444f-ba34-e1796c86e434');\n",
              "        const dataTable =\n",
              "          await google.colab.kernel.invokeFunction('convertToInteractive',\n",
              "                                                    [key], {});\n",
              "        if (!dataTable) return;\n",
              "\n",
              "        const docLinkHtml = 'Like what you see? Visit the ' +\n",
              "          '<a target=\"_blank\" href=https://colab.research.google.com/notebooks/data_table.ipynb>data table notebook</a>'\n",
              "          + ' to learn more about interactive tables.';\n",
              "        element.innerHTML = '';\n",
              "        dataTable['output_type'] = 'display_data';\n",
              "        await google.colab.output.renderOutput(dataTable, element);\n",
              "        const docLink = document.createElement('div');\n",
              "        docLink.innerHTML = docLinkHtml;\n",
              "        element.appendChild(docLink);\n",
              "      }\n",
              "    </script>\n",
              "  </div>\n",
              "\n",
              "\n",
              "    <div id=\"df-994934d5-c15f-4280-9586-276e8e923e0d\">\n",
              "      <button class=\"colab-df-quickchart\" onclick=\"quickchart('df-994934d5-c15f-4280-9586-276e8e923e0d')\"\n",
              "                title=\"Suggest charts\"\n",
              "                style=\"display:none;\">\n",
              "\n",
              "<svg xmlns=\"http://www.w3.org/2000/svg\" height=\"24px\"viewBox=\"0 0 24 24\"\n",
              "     width=\"24px\">\n",
              "    <g>\n",
              "        <path d=\"M19 3H5c-1.1 0-2 .9-2 2v14c0 1.1.9 2 2 2h14c1.1 0 2-.9 2-2V5c0-1.1-.9-2-2-2zM9 17H7v-7h2v7zm4 0h-2V7h2v10zm4 0h-2v-4h2v4z\"/>\n",
              "    </g>\n",
              "</svg>\n",
              "      </button>\n",
              "\n",
              "<style>\n",
              "  .colab-df-quickchart {\n",
              "      --bg-color: #E8F0FE;\n",
              "      --fill-color: #1967D2;\n",
              "      --hover-bg-color: #E2EBFA;\n",
              "      --hover-fill-color: #174EA6;\n",
              "      --disabled-fill-color: #AAA;\n",
              "      --disabled-bg-color: #DDD;\n",
              "  }\n",
              "\n",
              "  [theme=dark] .colab-df-quickchart {\n",
              "      --bg-color: #3B4455;\n",
              "      --fill-color: #D2E3FC;\n",
              "      --hover-bg-color: #434B5C;\n",
              "      --hover-fill-color: #FFFFFF;\n",
              "      --disabled-bg-color: #3B4455;\n",
              "      --disabled-fill-color: #666;\n",
              "  }\n",
              "\n",
              "  .colab-df-quickchart {\n",
              "    background-color: var(--bg-color);\n",
              "    border: none;\n",
              "    border-radius: 50%;\n",
              "    cursor: pointer;\n",
              "    display: none;\n",
              "    fill: var(--fill-color);\n",
              "    height: 32px;\n",
              "    padding: 0;\n",
              "    width: 32px;\n",
              "  }\n",
              "\n",
              "  .colab-df-quickchart:hover {\n",
              "    background-color: var(--hover-bg-color);\n",
              "    box-shadow: 0 1px 2px rgba(60, 64, 67, 0.3), 0 1px 3px 1px rgba(60, 64, 67, 0.15);\n",
              "    fill: var(--button-hover-fill-color);\n",
              "  }\n",
              "\n",
              "  .colab-df-quickchart-complete:disabled,\n",
              "  .colab-df-quickchart-complete:disabled:hover {\n",
              "    background-color: var(--disabled-bg-color);\n",
              "    fill: var(--disabled-fill-color);\n",
              "    box-shadow: none;\n",
              "  }\n",
              "\n",
              "  .colab-df-spinner {\n",
              "    border: 2px solid var(--fill-color);\n",
              "    border-color: transparent;\n",
              "    border-bottom-color: var(--fill-color);\n",
              "    animation:\n",
              "      spin 1s steps(1) infinite;\n",
              "  }\n",
              "\n",
              "  @keyframes spin {\n",
              "    0% {\n",
              "      border-color: transparent;\n",
              "      border-bottom-color: var(--fill-color);\n",
              "      border-left-color: var(--fill-color);\n",
              "    }\n",
              "    20% {\n",
              "      border-color: transparent;\n",
              "      border-left-color: var(--fill-color);\n",
              "      border-top-color: var(--fill-color);\n",
              "    }\n",
              "    30% {\n",
              "      border-color: transparent;\n",
              "      border-left-color: var(--fill-color);\n",
              "      border-top-color: var(--fill-color);\n",
              "      border-right-color: var(--fill-color);\n",
              "    }\n",
              "    40% {\n",
              "      border-color: transparent;\n",
              "      border-right-color: var(--fill-color);\n",
              "      border-top-color: var(--fill-color);\n",
              "    }\n",
              "    60% {\n",
              "      border-color: transparent;\n",
              "      border-right-color: var(--fill-color);\n",
              "    }\n",
              "    80% {\n",
              "      border-color: transparent;\n",
              "      border-right-color: var(--fill-color);\n",
              "      border-bottom-color: var(--fill-color);\n",
              "    }\n",
              "    90% {\n",
              "      border-color: transparent;\n",
              "      border-bottom-color: var(--fill-color);\n",
              "    }\n",
              "  }\n",
              "</style>\n",
              "\n",
              "      <script>\n",
              "        async function quickchart(key) {\n",
              "          const quickchartButtonEl =\n",
              "            document.querySelector('#' + key + ' button');\n",
              "          quickchartButtonEl.disabled = true;  // To prevent multiple clicks.\n",
              "          quickchartButtonEl.classList.add('colab-df-spinner');\n",
              "          try {\n",
              "            const charts = await google.colab.kernel.invokeFunction(\n",
              "                'suggestCharts', [key], {});\n",
              "          } catch (error) {\n",
              "            console.error('Error during call to suggestCharts:', error);\n",
              "          }\n",
              "          quickchartButtonEl.classList.remove('colab-df-spinner');\n",
              "          quickchartButtonEl.classList.add('colab-df-quickchart-complete');\n",
              "        }\n",
              "        (() => {\n",
              "          let quickchartButtonEl =\n",
              "            document.querySelector('#df-994934d5-c15f-4280-9586-276e8e923e0d button');\n",
              "          quickchartButtonEl.style.display =\n",
              "            google.colab.kernel.accessAllowed ? 'block' : 'none';\n",
              "        })();\n",
              "      </script>\n",
              "    </div>\n",
              "\n",
              "    </div>\n",
              "  </div>\n"
            ],
            "application/vnd.google.colaboratory.intrinsic+json": {
              "type": "dataframe",
              "variable_name": "X_text_df"
            }
          },
          "metadata": {},
          "execution_count": 36
        }
      ]
    },
    {
      "cell_type": "markdown",
      "source": [
        "Combine Text Features and Prepare the dataset"
      ],
      "metadata": {
        "id": "r3kJKhMOeUIS"
      }
    },
    {
      "cell_type": "code",
      "source": [
        "# Prepare full feature set and target\n",
        "X = X_text_df\n",
        "y = df['is_remote_job']\n",
        "\n",
        "# Split into train/test\n",
        "X_train, X_test, y_train, y_test = train_test_split(X, y, test_size=0.2, random_state=42)\n",
        "# Show output\n",
        "print(\"X_train shape:\", X_train.shape)\n",
        "print(\"X_test shape:\", X_test.shape)\n",
        "print(\"y_train shape:\", y_train.shape)\n",
        "print(\"y_test shape:\", y_test.shape)"
      ],
      "metadata": {
        "id": "KvunLFn4eZjr",
        "colab": {
          "base_uri": "https://localhost:8080/"
        },
        "outputId": "278a283d-52d7-4c8f-b86a-9ee8dabe3c05"
      },
      "execution_count": 37,
      "outputs": [
        {
          "output_type": "stream",
          "name": "stdout",
          "text": [
            "X_train shape: (821, 1000)\n",
            "X_test shape: (206, 1000)\n",
            "y_train shape: (821,)\n",
            "y_test shape: (206,)\n"
          ]
        }
      ]
    },
    {
      "cell_type": "markdown",
      "source": [
        "Decision Tree Classifier"
      ],
      "metadata": {
        "id": "d3-e-I3SemV3"
      }
    },
    {
      "cell_type": "code",
      "source": [
        "dt = DecisionTreeClassifier(max_depth=5, random_state=42)\n",
        "dt.fit(X_train, y_train)\n",
        "\n",
        "# Predictions\n",
        "y_pred_dt = dt.predict(X_test)\n",
        "\n",
        "# Evaluation\n",
        "print(\"📘 Decision Tree Report:\\n\", classification_report(y_test, y_pred_dt))\n",
        "print(\"📘 Confusion Matrix:\\n\", confusion_matrix(y_test, y_pred_dt))\n"
      ],
      "metadata": {
        "id": "zN_FiPBaetyn",
        "colab": {
          "base_uri": "https://localhost:8080/"
        },
        "outputId": "936b4e73-c6a8-45e9-d78b-a1ab5ba14c32"
      },
      "execution_count": 38,
      "outputs": [
        {
          "output_type": "stream",
          "name": "stdout",
          "text": [
            "📘 Decision Tree Report:\n",
            "               precision    recall  f1-score   support\n",
            "\n",
            "           0       0.99      1.00      0.99       147\n",
            "           1       1.00      0.97      0.98        59\n",
            "\n",
            "    accuracy                           0.99       206\n",
            "   macro avg       0.99      0.98      0.99       206\n",
            "weighted avg       0.99      0.99      0.99       206\n",
            "\n",
            "📘 Confusion Matrix:\n",
            " [[147   0]\n",
            " [  2  57]]\n"
          ]
        }
      ]
    },
    {
      "cell_type": "markdown",
      "source": [
        "XGBoost Classifier"
      ],
      "metadata": {
        "id": "AVln1KGQe5Cq"
      }
    },
    {
      "cell_type": "code",
      "source": [
        "xgb_clf = xgb.XGBClassifier(use_label_encoder=False, eval_metric='logloss', max_depth=5, random_state=42)\n",
        "xgb_clf.fit(X_train, y_train)\n",
        "\n",
        "# Predictions\n",
        "y_pred_xgb = xgb_clf.predict(X_test)\n",
        "\n",
        "# Evaluation\n",
        "print(\"⚡ XGBoost Report:\\n\", classification_report(y_test, y_pred_xgb))\n",
        "print(\"⚡ Confusion Matrix:\\n\", confusion_matrix(y_test, y_pred_xgb))\n"
      ],
      "metadata": {
        "id": "CLg3canNe9HJ",
        "colab": {
          "base_uri": "https://localhost:8080/"
        },
        "outputId": "e945c906-de3e-4fc2-8d5e-9837fd8f68df"
      },
      "execution_count": 39,
      "outputs": [
        {
          "output_type": "stream",
          "name": "stderr",
          "text": [
            "/usr/local/lib/python3.11/dist-packages/xgboost/core.py:158: UserWarning: [09:56:12] WARNING: /workspace/src/learner.cc:740: \n",
            "Parameters: { \"use_label_encoder\" } are not used.\n",
            "\n",
            "  warnings.warn(smsg, UserWarning)\n"
          ]
        },
        {
          "output_type": "stream",
          "name": "stdout",
          "text": [
            "⚡ XGBoost Report:\n",
            "               precision    recall  f1-score   support\n",
            "\n",
            "           0       0.99      1.00      0.99       147\n",
            "           1       1.00      0.97      0.98        59\n",
            "\n",
            "    accuracy                           0.99       206\n",
            "   macro avg       0.99      0.98      0.99       206\n",
            "weighted avg       0.99      0.99      0.99       206\n",
            "\n",
            "⚡ Confusion Matrix:\n",
            " [[147   0]\n",
            " [  2  57]]\n"
          ]
        }
      ]
    },
    {
      "cell_type": "markdown",
      "source": [
        "K Means Clustering"
      ],
      "metadata": {
        "id": "-h1GZXGLfCjf"
      }
    },
    {
      "cell_type": "code",
      "source": [
        "# K-Means Clustering on TF-IDF features\n",
        "kmeans = KMeans(n_clusters=3, random_state=42)\n",
        "clusters = kmeans.fit_predict(X_text_df)\n",
        "\n",
        "# Add cluster info to original dataframe\n",
        "df['cluster'] = clusters\n",
        "#display ouput\n",
        "df.head()"
      ],
      "metadata": {
        "id": "C6vNell4fGYi",
        "colab": {
          "base_uri": "https://localhost:8080/",
          "height": 399
        },
        "outputId": "11b1b769-1551-4e69-fc34-8498430ea826"
      },
      "execution_count": 40,
      "outputs": [
        {
          "output_type": "execute_result",
          "data": {
            "text/plain": [
              "   id            title    company           location  \\\n",
              "0   1     Data Analyst       Meta       New York, NY   \n",
              "1   2     Data Analyst       Meta  San Francisco, CA   \n",
              "2   3     Data Analyst       Meta    Los Angeles, CA   \n",
              "3   4     Data Analyst       Meta     Washington, DC   \n",
              "4   5  Data Analyst II  Pinterest        Chicago, IL   \n",
              "\n",
              "                                                link    source date_posted  \\\n",
              "0  https://www.linkedin.com/jobs/view/data-analys...  LinkedIn  2025-04-14   \n",
              "1  https://www.linkedin.com/jobs/view/data-analys...  LinkedIn  2025-04-14   \n",
              "2  https://www.linkedin.com/jobs/view/data-analys...  LinkedIn  2025-04-14   \n",
              "3  https://www.linkedin.com/jobs/view/data-analys...  LinkedIn  2025-04-14   \n",
              "4  https://www.linkedin.com/jobs/view/data-analys...  LinkedIn  2025-04-16   \n",
              "\n",
              "                                         description  is_remote_job  cluster  \n",
              "0  The Social Measurement team is a growing team ...              0        2  \n",
              "1  The Social Measurement team is a growing team ...              0        2  \n",
              "2  The Social Measurement team is a growing team ...              0        2  \n",
              "3  The Social Measurement team is a growing team ...              0        2  \n",
              "4  About Pinterest\\n\\nMillions of people around t...              0        1  "
            ],
            "text/html": [
              "\n",
              "  <div id=\"df-c0bb09ed-b292-463f-ab8a-9dec4d14b109\" class=\"colab-df-container\">\n",
              "    <div>\n",
              "<style scoped>\n",
              "    .dataframe tbody tr th:only-of-type {\n",
              "        vertical-align: middle;\n",
              "    }\n",
              "\n",
              "    .dataframe tbody tr th {\n",
              "        vertical-align: top;\n",
              "    }\n",
              "\n",
              "    .dataframe thead th {\n",
              "        text-align: right;\n",
              "    }\n",
              "</style>\n",
              "<table border=\"1\" class=\"dataframe\">\n",
              "  <thead>\n",
              "    <tr style=\"text-align: right;\">\n",
              "      <th></th>\n",
              "      <th>id</th>\n",
              "      <th>title</th>\n",
              "      <th>company</th>\n",
              "      <th>location</th>\n",
              "      <th>link</th>\n",
              "      <th>source</th>\n",
              "      <th>date_posted</th>\n",
              "      <th>description</th>\n",
              "      <th>is_remote_job</th>\n",
              "      <th>cluster</th>\n",
              "    </tr>\n",
              "  </thead>\n",
              "  <tbody>\n",
              "    <tr>\n",
              "      <th>0</th>\n",
              "      <td>1</td>\n",
              "      <td>Data Analyst</td>\n",
              "      <td>Meta</td>\n",
              "      <td>New York, NY</td>\n",
              "      <td>https://www.linkedin.com/jobs/view/data-analys...</td>\n",
              "      <td>LinkedIn</td>\n",
              "      <td>2025-04-14</td>\n",
              "      <td>The Social Measurement team is a growing team ...</td>\n",
              "      <td>0</td>\n",
              "      <td>2</td>\n",
              "    </tr>\n",
              "    <tr>\n",
              "      <th>1</th>\n",
              "      <td>2</td>\n",
              "      <td>Data Analyst</td>\n",
              "      <td>Meta</td>\n",
              "      <td>San Francisco, CA</td>\n",
              "      <td>https://www.linkedin.com/jobs/view/data-analys...</td>\n",
              "      <td>LinkedIn</td>\n",
              "      <td>2025-04-14</td>\n",
              "      <td>The Social Measurement team is a growing team ...</td>\n",
              "      <td>0</td>\n",
              "      <td>2</td>\n",
              "    </tr>\n",
              "    <tr>\n",
              "      <th>2</th>\n",
              "      <td>3</td>\n",
              "      <td>Data Analyst</td>\n",
              "      <td>Meta</td>\n",
              "      <td>Los Angeles, CA</td>\n",
              "      <td>https://www.linkedin.com/jobs/view/data-analys...</td>\n",
              "      <td>LinkedIn</td>\n",
              "      <td>2025-04-14</td>\n",
              "      <td>The Social Measurement team is a growing team ...</td>\n",
              "      <td>0</td>\n",
              "      <td>2</td>\n",
              "    </tr>\n",
              "    <tr>\n",
              "      <th>3</th>\n",
              "      <td>4</td>\n",
              "      <td>Data Analyst</td>\n",
              "      <td>Meta</td>\n",
              "      <td>Washington, DC</td>\n",
              "      <td>https://www.linkedin.com/jobs/view/data-analys...</td>\n",
              "      <td>LinkedIn</td>\n",
              "      <td>2025-04-14</td>\n",
              "      <td>The Social Measurement team is a growing team ...</td>\n",
              "      <td>0</td>\n",
              "      <td>2</td>\n",
              "    </tr>\n",
              "    <tr>\n",
              "      <th>4</th>\n",
              "      <td>5</td>\n",
              "      <td>Data Analyst II</td>\n",
              "      <td>Pinterest</td>\n",
              "      <td>Chicago, IL</td>\n",
              "      <td>https://www.linkedin.com/jobs/view/data-analys...</td>\n",
              "      <td>LinkedIn</td>\n",
              "      <td>2025-04-16</td>\n",
              "      <td>About Pinterest\\n\\nMillions of people around t...</td>\n",
              "      <td>0</td>\n",
              "      <td>1</td>\n",
              "    </tr>\n",
              "  </tbody>\n",
              "</table>\n",
              "</div>\n",
              "    <div class=\"colab-df-buttons\">\n",
              "\n",
              "  <div class=\"colab-df-container\">\n",
              "    <button class=\"colab-df-convert\" onclick=\"convertToInteractive('df-c0bb09ed-b292-463f-ab8a-9dec4d14b109')\"\n",
              "            title=\"Convert this dataframe to an interactive table.\"\n",
              "            style=\"display:none;\">\n",
              "\n",
              "  <svg xmlns=\"http://www.w3.org/2000/svg\" height=\"24px\" viewBox=\"0 -960 960 960\">\n",
              "    <path d=\"M120-120v-720h720v720H120Zm60-500h600v-160H180v160Zm220 220h160v-160H400v160Zm0 220h160v-160H400v160ZM180-400h160v-160H180v160Zm440 0h160v-160H620v160ZM180-180h160v-160H180v160Zm440 0h160v-160H620v160Z\"/>\n",
              "  </svg>\n",
              "    </button>\n",
              "\n",
              "  <style>\n",
              "    .colab-df-container {\n",
              "      display:flex;\n",
              "      gap: 12px;\n",
              "    }\n",
              "\n",
              "    .colab-df-convert {\n",
              "      background-color: #E8F0FE;\n",
              "      border: none;\n",
              "      border-radius: 50%;\n",
              "      cursor: pointer;\n",
              "      display: none;\n",
              "      fill: #1967D2;\n",
              "      height: 32px;\n",
              "      padding: 0 0 0 0;\n",
              "      width: 32px;\n",
              "    }\n",
              "\n",
              "    .colab-df-convert:hover {\n",
              "      background-color: #E2EBFA;\n",
              "      box-shadow: 0px 1px 2px rgba(60, 64, 67, 0.3), 0px 1px 3px 1px rgba(60, 64, 67, 0.15);\n",
              "      fill: #174EA6;\n",
              "    }\n",
              "\n",
              "    .colab-df-buttons div {\n",
              "      margin-bottom: 4px;\n",
              "    }\n",
              "\n",
              "    [theme=dark] .colab-df-convert {\n",
              "      background-color: #3B4455;\n",
              "      fill: #D2E3FC;\n",
              "    }\n",
              "\n",
              "    [theme=dark] .colab-df-convert:hover {\n",
              "      background-color: #434B5C;\n",
              "      box-shadow: 0px 1px 3px 1px rgba(0, 0, 0, 0.15);\n",
              "      filter: drop-shadow(0px 1px 2px rgba(0, 0, 0, 0.3));\n",
              "      fill: #FFFFFF;\n",
              "    }\n",
              "  </style>\n",
              "\n",
              "    <script>\n",
              "      const buttonEl =\n",
              "        document.querySelector('#df-c0bb09ed-b292-463f-ab8a-9dec4d14b109 button.colab-df-convert');\n",
              "      buttonEl.style.display =\n",
              "        google.colab.kernel.accessAllowed ? 'block' : 'none';\n",
              "\n",
              "      async function convertToInteractive(key) {\n",
              "        const element = document.querySelector('#df-c0bb09ed-b292-463f-ab8a-9dec4d14b109');\n",
              "        const dataTable =\n",
              "          await google.colab.kernel.invokeFunction('convertToInteractive',\n",
              "                                                    [key], {});\n",
              "        if (!dataTable) return;\n",
              "\n",
              "        const docLinkHtml = 'Like what you see? Visit the ' +\n",
              "          '<a target=\"_blank\" href=https://colab.research.google.com/notebooks/data_table.ipynb>data table notebook</a>'\n",
              "          + ' to learn more about interactive tables.';\n",
              "        element.innerHTML = '';\n",
              "        dataTable['output_type'] = 'display_data';\n",
              "        await google.colab.output.renderOutput(dataTable, element);\n",
              "        const docLink = document.createElement('div');\n",
              "        docLink.innerHTML = docLinkHtml;\n",
              "        element.appendChild(docLink);\n",
              "      }\n",
              "    </script>\n",
              "  </div>\n",
              "\n",
              "\n",
              "    <div id=\"df-f646dfd8-4f77-4ffe-926e-013c2bbccbc7\">\n",
              "      <button class=\"colab-df-quickchart\" onclick=\"quickchart('df-f646dfd8-4f77-4ffe-926e-013c2bbccbc7')\"\n",
              "                title=\"Suggest charts\"\n",
              "                style=\"display:none;\">\n",
              "\n",
              "<svg xmlns=\"http://www.w3.org/2000/svg\" height=\"24px\"viewBox=\"0 0 24 24\"\n",
              "     width=\"24px\">\n",
              "    <g>\n",
              "        <path d=\"M19 3H5c-1.1 0-2 .9-2 2v14c0 1.1.9 2 2 2h14c1.1 0 2-.9 2-2V5c0-1.1-.9-2-2-2zM9 17H7v-7h2v7zm4 0h-2V7h2v10zm4 0h-2v-4h2v4z\"/>\n",
              "    </g>\n",
              "</svg>\n",
              "      </button>\n",
              "\n",
              "<style>\n",
              "  .colab-df-quickchart {\n",
              "      --bg-color: #E8F0FE;\n",
              "      --fill-color: #1967D2;\n",
              "      --hover-bg-color: #E2EBFA;\n",
              "      --hover-fill-color: #174EA6;\n",
              "      --disabled-fill-color: #AAA;\n",
              "      --disabled-bg-color: #DDD;\n",
              "  }\n",
              "\n",
              "  [theme=dark] .colab-df-quickchart {\n",
              "      --bg-color: #3B4455;\n",
              "      --fill-color: #D2E3FC;\n",
              "      --hover-bg-color: #434B5C;\n",
              "      --hover-fill-color: #FFFFFF;\n",
              "      --disabled-bg-color: #3B4455;\n",
              "      --disabled-fill-color: #666;\n",
              "  }\n",
              "\n",
              "  .colab-df-quickchart {\n",
              "    background-color: var(--bg-color);\n",
              "    border: none;\n",
              "    border-radius: 50%;\n",
              "    cursor: pointer;\n",
              "    display: none;\n",
              "    fill: var(--fill-color);\n",
              "    height: 32px;\n",
              "    padding: 0;\n",
              "    width: 32px;\n",
              "  }\n",
              "\n",
              "  .colab-df-quickchart:hover {\n",
              "    background-color: var(--hover-bg-color);\n",
              "    box-shadow: 0 1px 2px rgba(60, 64, 67, 0.3), 0 1px 3px 1px rgba(60, 64, 67, 0.15);\n",
              "    fill: var(--button-hover-fill-color);\n",
              "  }\n",
              "\n",
              "  .colab-df-quickchart-complete:disabled,\n",
              "  .colab-df-quickchart-complete:disabled:hover {\n",
              "    background-color: var(--disabled-bg-color);\n",
              "    fill: var(--disabled-fill-color);\n",
              "    box-shadow: none;\n",
              "  }\n",
              "\n",
              "  .colab-df-spinner {\n",
              "    border: 2px solid var(--fill-color);\n",
              "    border-color: transparent;\n",
              "    border-bottom-color: var(--fill-color);\n",
              "    animation:\n",
              "      spin 1s steps(1) infinite;\n",
              "  }\n",
              "\n",
              "  @keyframes spin {\n",
              "    0% {\n",
              "      border-color: transparent;\n",
              "      border-bottom-color: var(--fill-color);\n",
              "      border-left-color: var(--fill-color);\n",
              "    }\n",
              "    20% {\n",
              "      border-color: transparent;\n",
              "      border-left-color: var(--fill-color);\n",
              "      border-top-color: var(--fill-color);\n",
              "    }\n",
              "    30% {\n",
              "      border-color: transparent;\n",
              "      border-left-color: var(--fill-color);\n",
              "      border-top-color: var(--fill-color);\n",
              "      border-right-color: var(--fill-color);\n",
              "    }\n",
              "    40% {\n",
              "      border-color: transparent;\n",
              "      border-right-color: var(--fill-color);\n",
              "      border-top-color: var(--fill-color);\n",
              "    }\n",
              "    60% {\n",
              "      border-color: transparent;\n",
              "      border-right-color: var(--fill-color);\n",
              "    }\n",
              "    80% {\n",
              "      border-color: transparent;\n",
              "      border-right-color: var(--fill-color);\n",
              "      border-bottom-color: var(--fill-color);\n",
              "    }\n",
              "    90% {\n",
              "      border-color: transparent;\n",
              "      border-bottom-color: var(--fill-color);\n",
              "    }\n",
              "  }\n",
              "</style>\n",
              "\n",
              "      <script>\n",
              "        async function quickchart(key) {\n",
              "          const quickchartButtonEl =\n",
              "            document.querySelector('#' + key + ' button');\n",
              "          quickchartButtonEl.disabled = true;  // To prevent multiple clicks.\n",
              "          quickchartButtonEl.classList.add('colab-df-spinner');\n",
              "          try {\n",
              "            const charts = await google.colab.kernel.invokeFunction(\n",
              "                'suggestCharts', [key], {});\n",
              "          } catch (error) {\n",
              "            console.error('Error during call to suggestCharts:', error);\n",
              "          }\n",
              "          quickchartButtonEl.classList.remove('colab-df-spinner');\n",
              "          quickchartButtonEl.classList.add('colab-df-quickchart-complete');\n",
              "        }\n",
              "        (() => {\n",
              "          let quickchartButtonEl =\n",
              "            document.querySelector('#df-f646dfd8-4f77-4ffe-926e-013c2bbccbc7 button');\n",
              "          quickchartButtonEl.style.display =\n",
              "            google.colab.kernel.accessAllowed ? 'block' : 'none';\n",
              "        })();\n",
              "      </script>\n",
              "    </div>\n",
              "\n",
              "    </div>\n",
              "  </div>\n"
            ],
            "application/vnd.google.colaboratory.intrinsic+json": {
              "type": "dataframe",
              "variable_name": "df",
              "summary": "{\n  \"name\": \"df\",\n  \"rows\": 1027,\n  \"fields\": [\n    {\n      \"column\": \"id\",\n      \"properties\": {\n        \"dtype\": \"number\",\n        \"std\": 767,\n        \"min\": 1,\n        \"max\": 2534,\n        \"num_unique_values\": 1027,\n        \"samples\": [\n          1025,\n          1446,\n          908\n        ],\n        \"semantic_type\": \"\",\n        \"description\": \"\"\n      }\n    },\n    {\n      \"column\": \"title\",\n      \"properties\": {\n        \"dtype\": \"category\",\n        \"num_unique_values\": 513,\n        \"samples\": [\n          \"**** ******* - *******\",\n          \"Analytics Engineer (L5) - New Content Experiences\",\n          \"Sr Data and Business Analyst\"\n        ],\n        \"semantic_type\": \"\",\n        \"description\": \"\"\n      }\n    },\n    {\n      \"column\": \"company\",\n      \"properties\": {\n        \"dtype\": \"string\",\n        \"num_unique_values\": 627,\n        \"samples\": [\n          \"H-E-B\",\n          \"Visionaire Partners\",\n          \"Houston Methodist\"\n        ],\n        \"semantic_type\": \"\",\n        \"description\": \"\"\n      }\n    },\n    {\n      \"column\": \"location\",\n      \"properties\": {\n        \"dtype\": \"category\",\n        \"num_unique_values\": 358,\n        \"samples\": [\n          \"Littleton, CO\",\n          \"Belo Horizonte, Minas Gerais, Brazil\",\n          \"Medell\\u00edn, Antioquia, Colombia\"\n        ],\n        \"semantic_type\": \"\",\n        \"description\": \"\"\n      }\n    },\n    {\n      \"column\": \"link\",\n      \"properties\": {\n        \"dtype\": \"string\",\n        \"num_unique_values\": 1027,\n        \"samples\": [\n          \"https://www.linkedin.com/jobs/view/junior-data-analyst-at-aaratech-4234707579\",\n          \"https://www.linkedin.com/jobs/view/analytics-engineer-l5-ads-at-netflix-4229059289\",\n          \"https://www.linkedin.com/jobs/view/retail-operations-data-analyst-at-meta-4229077543\"\n        ],\n        \"semantic_type\": \"\",\n        \"description\": \"\"\n      }\n    },\n    {\n      \"column\": \"source\",\n      \"properties\": {\n        \"dtype\": \"category\",\n        \"num_unique_values\": 3,\n        \"samples\": [\n          \"LinkedIn\",\n          \"linkedin\",\n          \"indeed\"\n        ],\n        \"semantic_type\": \"\",\n        \"description\": \"\"\n      }\n    },\n    {\n      \"column\": \"date_posted\",\n      \"properties\": {\n        \"dtype\": \"object\",\n        \"num_unique_values\": 36,\n        \"samples\": [\n          \"2025-05-28\",\n          \"2025-05-21\",\n          \"2025-06-06\"\n        ],\n        \"semantic_type\": \"\",\n        \"description\": \"\"\n      }\n    },\n    {\n      \"column\": \"description\",\n      \"properties\": {\n        \"dtype\": \"string\",\n        \"num_unique_values\": 918,\n        \"samples\": [\n          \"Data Analyst\\n\\nExperience: 12 to 15 Years\\n\\nLocation: Bangalore, Pune, Hyderabad, Chennai, Noida, Kolkata, Mumbai\\n\\nInterview mode: 1st Virtual , L2 or HR round will be F2F\\n\\nMandatory Skills -\\n\\nData Analyst - Minimum 10 yr experience Required\\n\\nData profiling - Minimum 5 yr experience Required\\n\\nSQL - Minimum 8 experience required\\n\\nData Quality tools ( IDMC OR Alteryx ) - Minimum 5 yr experience Required\\n\\nJD\\n\\nPrimary Skills:\\n\\nStrong proficiency in SQL\\n\\nData Profiling and Data Quality tools (e.g., IDMC, Alteryx)\\n\\nExcellent communication and collaboration skills\\n\\nSecondary Skills:\\n\\nExperience with ADF, Snowflake, and Databricks\\n\\nKnowledge of Spark and any ETL tools (SSIS, Informatica, etc.)\\n\\nPower BI for data analysis and reporting\\n\\nDomain knowledge in Claims and Insurance\\n\\nJob Responsibilities:\\n\\nAct as the primary point of contact for platform-related inquiries\\n\\nCommunicate platform updates and changes to relevant teams and stakeholders\\n\\nCollaborate effectively with multiple stakeholders across teams\\n\\nFacilitate coordination between development teams and other departments dependent on the platform\\n\\nWork within Agile practices to ensure timely and efficient project delivery\\n\\nUtilize data profiling and quality tools to ensure integrity and consistency of data\\n\\nGood to Have:\\n\\nStrong understanding of the Insurance domain and Claims processing\\n\\nShow more\",\n          \"Company Description\\n\\nR25_0007929\\n\\nJob Description\\n\\nClient Insights Job Description: Analyst\\n\\nIndustry Insights category expert with the main goal to delight clients; supporting them for informed business decisions through delivery of analysis and insights on their categories using the NIQ data with the NIQ tools,\\u202ffollowing the NIQ standards and Service Model.\\u202f\\n\\nResponsibilities\\n\\n\\nDevelop efficient use of propriety NIQ\\u202ftools and metrics, to use these to help solve clients' business questions\\nDevelop a good understanding of clients' businesses and needs in order to create\\u202frelevant insights through analyses of retail measurement data, and other NIQ data sets and be able to present, with guidance and support of seniors, if needed (junior).\\nDuring the briefing process, field business questions and be able to ask clarifying questions & discuss\\u202fanalyses/metrics best suited to answer\\u202frequests\\u202f\\nSimplify/visualize data and translate numbers into a compelling story for\\u202fclients.\\u202f\\nAble to prepare (and present- in some cases) simple ad-hoc analysis\\nLead generation:\\u202fConstantly\\u202flearn what solutions NIQ has for the clients and work closely\\u202fwith the senior analyst and/or manager to identify revenue leads.\\nBring awareness to roadblocks when they\\u202farise\\u202f\\nDevelop in preparing category performance overview analysis and business issue analysis as per Bronze and Silver Academy learnings (manager assesment to be 3.5 and above)\\nClient briefing: In-market: Ensure client briefing is received as per the briefing form with all areas filled. Ask questions to client to probe and understand the real issue. Hub: Ensure briefing document is received from the in-market with all areas complete. Ask in-market teams for clarity.\\nStart contributing to Thought Leadership Projects\\nBecome bi-lingual (CPS+RMS):\\nExplain CPS facts and fundamentals to clients accurately and confidently,\\nUse Discover to generate and present CPS Insights,\\nDecrypt consumer and shopper KPIs into everyday, customer centric language\\n\\n\\nQualifications\\n\\nQualifications\\n\\n0-2 years of industry experience\\n\\n\\nUniversity graduate in Marketing, Business, Economics, Mathematics, Statistics or equivalent disciplines\\nCurious person who likes building stories based on data to answer business questions\\n\\n\\nThis role has a market-competitive salary with an anticipated base compensation of 63,500k. Actual salaries will vary depending on a candidate\\u2019s experience, qualifications, skills, and location. This role might also be eligible for a sales-based incentive or performance-based bonus. Other benefits include a flexible working environment, comprehensive health insurance, industry-leading parental leave, life insurance, education support, and more.\\n\\nUS Benefits\\n\\n\\nComprehensive healthcare plan (medical, Rx, dental, and vision)\\nFlexible spending accounts and a Health Savings Account (including company contributions)\\nLife and AD&D insurance\\n401(k) retirement plan including company matching contributions\\nDisability insurance\\nTuition Reimbursement\\nDiscretionary paid time off program and 11 paid holidays\\nFlexible working environment\\nVolunteer time off\\nLinkedIn Learning\\nEmployee-Assistance-Program (EAP)\\n\\n\\nAdditional Information\\n\\nOur Benefits\\n\\n\\nFlexible working environment\\nVolunteer time off\\nLinkedIn Learning\\nEmployee-Assistance-Program (EAP)\\n\\n\\nAbout NIQ\\n\\nNIQ is the world\\u2019s leading consumer intelligence company, delivering the most complete understanding of consumer buying behavior and revealing new pathways to growth. In 2023, NIQ combined with GfK, bringing together the two industry leaders with unparalleled global reach. With a holistic retail read and the most comprehensive consumer insights\\u2014delivered with advanced analytics through state-of-the-art platforms\\u2014NIQ delivers the Full View\\u2122. NIQ is an Advent International portfolio company with operations in 100+ markets, covering more than 90% of the world\\u2019s population.\\n\\nFor more information, visit NIQ.com\\n\\nWant to keep up with our latest updates?\\n\\nFollow us on: LinkedIn | Instagram | Twitter | Facebook\\n\\nOur commitment to Diversity, Equity, and Inclusion\\n\\nNIQ is committed to reflecting the diversity of the clients, communities, and markets we measure within our own workforce. We exist to count everyone and are on a mission to systematically embed inclusion and diversity into all aspects of our workforce, measurement, and products. We enthusiastically invite candidates who share that mission to join us. We are proud to be an Equal Opportunity/Affirmative Action-Employer, making decisions without regard to race, color, religion, gender, gender identity or expression, sexual orientation, national origin, genetics, disability status, age, marital status, protected veteran status or any other protected class. Our global non-discrimination policy covers these protected classes in every market in which we do business worldwide. Learn more about how we are driving diversity and inclusion in everything we do by visiting the NIQ News Center: https://nielseniq.com/global/en/news-center/diversity-inclusion\\nShow more\",\n          \"Netflix is one of the world's leading entertainment services, with 283 million paid memberships in over 190 countries enjoying TV series, films and games across a wide variety of genres and languages. Members can play, pause and resume watching as much as they want, anytime, anywhere, and can change their plans at any time.\\n\\nOur Customer Service organization works to ensure nothing gets between our members and their favorite shows, movies and games. Data science plays a key role in guiding the CS team to deliver top-notch customer experiences that are aligned with Netflix's business strategy and executed with high operational excellence.\\n\\nIn This Role, You Will\\n\\n\\nLead the evolution of CS metrics, identifying \\u201cnorth star\\u201d metrics and the ways CS teams can drive them\\nThink critically about the business problem at hand and deploy the appropriate measurement technique\\nPartner with executives, Product Managers, Data Engineers, Analytics Engineers and Finance to further a statistically rigorous, data-driven decision-making culture in CS\\nIdentify opportunity areas for experimentation and research\\nExpand the use of CS metrics across Netflix, where they hold insights for Product, Engineering, and Data Science\\n\\n\\nWe Are Looking For\\n\\n\\nAdvanced degree in Statistics, Mathematics, Physics, Economics or a related quantitative field\\nStrong statistical knowledge and intuition, and applied experience developing business-centric metrics frameworks\\nStrong SQL skills and programming experience (Python preferred)\\nAbility to effectively communicate technical concepts and convey clear recommendations to a variety of audiences (Engineering, Product, senior leadership)\\nExperience with a wide range of measurement and prediction techniques (correlation analysis, observational causal inference, forecasting, quasi experimentation)\\nComfort working with complex data; ability to thrive with minimal oversight and process\\nPrior experience with Customer Service is not required, but a desire to learn and become an expert is a must.\\n\\n\\nOur compensation structure consists solely of an annual salary; we do not have bonuses. You choose each year how much of your compensation you want in salary versus stock options. To determine your personal top of market compensation, we rely on market indicators and consider your specific job family, background, skills, and experience to determine your compensation in the market range. The range for this role is $170,000 - $720,000.\\n\\nNetflix provides comprehensive benefits including Health Plans, Mental Health support, a 401(k) Retirement Plan with employer match, Stock Option Program, Disability Programs, Health Savings and Flexible Spending Accounts, Family-forming benefits, and Life and Serious Injury Benefits. We also offer paid leave of absence programs. Full-time hourly employees accrue 35 days annually for paid time off to be used for vacation, holidays, and sick paid time off. Full-time salaried employees are immediately entitled to flexible time off. See more detail about our Benefits here.\\n\\nInclusion is a Netflix value and we strive to host a meaningful interview experience for all candidates. If you want an accommodation/adjustment for a disability or any other reason during the hiring process, please send a request to your recruiting partner.\\n\\nWe are an equal-opportunity employer and celebrate diversity, recognizing that diversity builds stronger teams. We approach diversity and inclusion seriously and thoughtfully. We do not discriminate on the basis of race, religion, color, ancestry, national origin, caste, sex, sexual orientation, gender, gender identity or expression, age, disability, medical condition, pregnancy, genetic makeup, marital status, or military service.\\n\\nJob is open for no less than 7 days and will be removed when the position is filled.\\nShow more\"\n        ],\n        \"semantic_type\": \"\",\n        \"description\": \"\"\n      }\n    },\n    {\n      \"column\": \"is_remote_job\",\n      \"properties\": {\n        \"dtype\": \"number\",\n        \"std\": 0,\n        \"min\": 0,\n        \"max\": 1,\n        \"num_unique_values\": 2,\n        \"samples\": [\n          1,\n          0\n        ],\n        \"semantic_type\": \"\",\n        \"description\": \"\"\n      }\n    },\n    {\n      \"column\": \"cluster\",\n      \"properties\": {\n        \"dtype\": \"int32\",\n        \"num_unique_values\": 3,\n        \"samples\": [\n          2,\n          1\n        ],\n        \"semantic_type\": \"\",\n        \"description\": \"\"\n      }\n    }\n  ]\n}"
            }
          },
          "metadata": {},
          "execution_count": 40
        }
      ]
    },
    {
      "cell_type": "markdown",
      "source": [
        "Visualize Clusters with PCA"
      ],
      "metadata": {
        "id": "yVFuGF5efOXK"
      }
    },
    {
      "source": [
        "from sklearn.decomposition import PCA\n",
        "\n",
        "pca = PCA(n_components=2)\n",
        "# Apply PCA directly to the DataFrame\n",
        "X_pca = pca.fit_transform(X_text_df)\n",
        "\n",
        "# Plot clusters\n",
        "plt.figure(figsize=(8, 5))\n",
        "sns.scatterplot(x=X_pca[:, 0], y=X_pca[:, 1], hue=clusters, palette='viridis')\n",
        "plt.title(\"K-Means Clustering of Job Descriptions\")\n",
        "plt.xlabel(\"PCA 1\")\n",
        "plt.ylabel(\"PCA 2\")\n",
        "plt.show()"
      ],
      "cell_type": "code",
      "metadata": {
        "id": "elpL0n43fZXB",
        "colab": {
          "base_uri": "https://localhost:8080/",
          "height": 496
        },
        "outputId": "4c2327f8-93ac-4a14-fd8b-0cd9715b4638"
      },
      "execution_count": 41,
      "outputs": [
        {
          "output_type": "display_data",
          "data": {
            "text/plain": [
              "<Figure size 800x500 with 1 Axes>"
            ],
            "image/png": "[encoded data removed]"
          },
          "metadata": {}
        }
      ]
    }
  ]
}