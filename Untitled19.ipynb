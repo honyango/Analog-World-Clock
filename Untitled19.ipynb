{
  "nbformat": 4,
  "nbformat_minor": 0,
  "metadata": {
    "colab": {
      "provenance": [],
      "authorship_tag": "ABX9TyPh4DH2WeCtTr+KTWvzklcD",
      "include_colab_link": true
    },
    "kernelspec": {
      "name": "python3",
      "display_name": "Python 3"
    },
    "language_info": {
      "name": "python"
    }
  },
  "cells": [
    {
      "cell_type": "markdown",
      "metadata": {
        "id": "view-in-github",
        "colab_type": "text"
      },
      "source": [
        "<a href=\"https://colab.research.google.com/github/honyango/Analog-World-Clock/blob/master/Untitled19.ipynb\" target=\"_parent\"><img src=\"https://colab.research.google.com/assets/colab-badge.svg\" alt=\"Open In Colab\"/></a>"
      ]
    },
    {
      "cell_type": "code",
      "execution_count": null,
      "metadata": {
        "id": "LofN1vzhZ77w"
      },
      "outputs": [],
      "source": [
        "import numpy as np\n",
        "# Input data (XOR inputs)\n",
        "X = np.array([[0,0],[0,1],[1,0],[1,1]])\n",
        "# Output data (XOR outputs)\n",
        "y = np.array([[0],[1],[1],[0]])\n",
        "# Initialize weights and biases randomly\n",
        "# For a network structure: 2 input neurons, 2 hidden neurons, 1 output neuron\n",
        "np.random.seed(42) # for reproducibility\n",
        "weights_input_hidden = np.random.rand(2,2) # Input to Hidden\n",
        "bias_hidden = np.random.rand(1,2)          # Bias for Hidden Layer\n",
        "weights_hidden_output = np.random.rand(2,1) # Hidden to Output\n",
        "bias_output = np.random.rand(1,1)           # Bias for Output Layer\n",
        "# Activation function\n",
        "def sigmoid(x):\n",
        "    return 1 / (1 + np.exp(-x))\n",
        "# Derivative of sigmoid (for backpropagation)\n",
        "def sigmoid_derivative(x):\n",
        "    return x * (1 - x)\n",
        "learning_rate = 0.1 # Define a learning rate\n",
        "epochs = 10000      # Number of training iterations\n",
        "# Training the network\n",
        "for epoch in range(epochs):\n",
        "    # --- Forward Pass ---\n",
        "    # Input to Hidden Layer\n",
        "    hidden_layer_input = np.dot(X, weights_input_hidden) + bias_hidden\n",
        "    hidden_layer_output = sigmoid(hidden_layer_input)\n",
        "    # Hidden Layer to Output Layer\n",
        "    output_layer_input = np.dot(hidden_layer_output, weights_hidden_output) + bias_output\n",
        "    predicted_output = sigmoid(output_layer_input)\n",
        "    # --- Calculate Error ---\n",
        "    error = y - predicted_output\n",
        "    # --- Backpropagation ---\n",
        "    # Calculate gradients for the output layer\n",
        "    d_predicted_output = error * sigmoid_derivative(predicted_output)\n",
        "    # Calculate error at the hidden layer\n",
        "    error_hidden_layer = d_predicted_output.dot(weights_hidden_output.T)\n",
        "ayer = error_hidden_layer * sigmoid_derivative(hidden_layer_output)\n",
        "    # --- Update Weights and Biases ---\n",
        "    # Output layer weights and bias\n",
        "weights_hidden_output += hidden_layer_output.T.dot(d_predicted_output) * learning_rate\n",
        "bias_output += np.sum(d_predicted_output, axis=0, keepdims=True) * learning_rate\n",
        "    # Hidden layer weights and bias\n",
        "weights_input_hidden += X.T.dot(d_hidden_layer) * learning_rate\n",
        "bias_hidden += np.sum(d_hidden_layer, axis=0, keepdims=True) * learning_rate\n",
        "if epoch % 1000 == 0:\n",
        "        loss = np.mean(np.square(error)) # Mean Squared Error\n",
        "        print(f\"Epoch {epoch}, Loss: {loss:.4f}\")\n",
        "print(\"\\nFinal Predicted Output after Training:\")\n",
        "print(predicted_output)\n"
      ]
    },
    {
      "source": [
        "import numpy as np\n",
        "# Input data (XOR inputs)\n",
        "X = np.array([[0,0],[0,1],[1,0],[1,1]])\n",
        "# Output data (XOR outputs)\n",
        "y = np.array([[0],[1],[1],[0]])\n",
        "# Initialize weights and biases randomly\n",
        "# For a network structure: 2 input neurons, 2 hidden neurons, 1 output neuron\n",
        "np.random.seed(42) # for reproducibility\n",
        "weights_input_hidden = np.random.rand(2,2) # Input to Hidden\n",
        "bias_hidden = np.random.rand(1,2)          # Bias for Hidden Layer\n",
        "weights_hidden_output = np.random.rand(2,1) # Hidden to Output\n",
        "bias_output = np.random.rand(1,1)           # Bias for Output Layer\n",
        "# Activation function\n",
        "def sigmoid(x):\n",
        "    return 1 / (1 + np.exp(-x))\n",
        "# Derivative of sigmoid (for backpropagation)\n",
        "def sigmoid_derivative(x):\n",
        "    return x * (1 - x)\n",
        "learning_rate = 0.1 # Define a learning rate\n",
        "epochs = 10000      # Number of training iterations\n",
        "# Training the network\n",
        "for epoch in range(epochs):\n",
        "    # --- Forward Pass ---\n",
        "    # Input to Hidden Layer\n",
        "    hidden_layer_input = np.dot(X, weights_input_hidden) + bias_hidden\n",
        "    hidden_layer_output = sigmoid(hidden_layer_input)\n",
        "    # Hidden Layer to Output Layer\n",
        "    output_layer_input = np.dot(hidden_layer_output, weights_hidden_output) + bias_output\n",
        "    predicted_output = sigmoid(output_layer_input)\n",
        "    # --- Calculate Error ---\n",
        "    error = y - predicted_output\n",
        "    # --- Backpropagation ---\n",
        "    # Calculate gradients for the output layer\n",
        "    d_predicted_output = error * sigmoid_derivative(predicted_output)\n",
        "    # Calculate error at the hidden layer\n",
        "    error_hidden_layer = d_predicted_output.dot(weights_hidden_output.T)\n",
        "    # Corrected the split line\n",
        "    d_hidden_layer = error_hidden_layer * sigmoid_derivative(hidden_layer_output)\n",
        "    # --- Update Weights and Biases ---\n",
        "    # Output layer weights and bias\n",
        "    weights_hidden_output += hidden_layer_output.T.dot(d_predicted_output) * learning_rate\n",
        "    bias_output += np.sum(d_predicted_output, axis=0, keepdims=True) * learning_rate\n",
        "    # Hidden layer weights and bias\n",
        "    weights_input_hidden += X.T.dot(d_hidden_layer) * learning_rate\n",
        "    bias_hidden += np.sum(d_hidden_layer, axis=0, keepdims=True) * learning_rate\n",
        "    if epoch % 1000 == 0:\n",
        "        loss = np.mean(np.square(error)) # Mean Squared Error\n",
        "        print(f\"Epoch {epoch}, Loss: {loss:.4f}\")\n",
        "print(\"\\nFinal Predicted Output after Training:\")\n",
        "print(predicted_output)"
      ],
      "cell_type": "code",
      "metadata": {
        "id": "C05T57Wibr7d"
      },
      "execution_count": null,
      "outputs": []
    }
  ]
}