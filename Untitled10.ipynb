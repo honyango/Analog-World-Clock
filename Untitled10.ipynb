{
  "nbformat": 4,
  "nbformat_minor": 0,
  "metadata": {
    "colab": {
      "provenance": [],
      "authorship_tag": "ABX9TyNpPPdV/q8Aqalg/F6xQAWw",
      "include_colab_link": true
    },
    "kernelspec": {
      "name": "python3",
      "display_name": "Python 3"
    },
    "language_info": {
      "name": "python"
    }
  },
  "cells": [
    {
      "cell_type": "markdown",
      "metadata": {
        "id": "view-in-github",
        "colab_type": "text"
      },
      "source": [
        "<a href=\"https://colab.research.google.com/github/honyango/Analog-World-Clock/blob/master/Untitled10.ipynb\" target=\"_parent\"><img src=\"https://colab.research.google.com/assets/colab-badge.svg\" alt=\"Open In Colab\"/></a>"
      ]
    },
    {
      "cell_type": "code",
      "source": [
        "import pandas as pd\n",
        "from sklearn.model_selection import train_test_split\n",
        "from sklearn.feature_extraction.text import TfidfVectorizer\n",
        "from sklearn.linear_model import LogisticRegression # Another good choice for text\n",
        "from sklearn.metrics import accuracy_score, confusion_matrix, classification_report\n",
        "from sklearn.pipeline import make_pipeline\n",
        "\n",
        "# 1. Sample Data (Binary: Positive/Negative)\n",
        "data = {\n",
        "    'text': [\n",
        "        \"This movie was absolutely fantastic!\",\n",
        "        \"I really enjoyed the book, highly recommend.\",\n",
        "        \"The service was terrible, very disappointing.\",\n",
        "        \"What a waste of time and money.\",\n",
        "        \"The food was okay, nothing special.\", # Can be tricky, let's label negative for simplicity here\n",
        "        \"An amazing experience from start to finish.\",\n",
        "        \"I would not go back there again.\",\n",
        "        \"Loved the acting and the plot.\",\n",
        "        \"Completely boring and predictable.\",\n",
        "        \"It was pretty good, worth watching.\"\n",
        "    ],\n",
        "    'label': [1, 1, 0, 0, 0, 1, 0, 1, 0, 1]  # 1 for positive, 0 for negative\n",
        "}\n",
        "df = pd.DataFrame(data)\n",
        "X = df['text']\n",
        "y = df['label']\n",
        "target_names = ['Negative', 'Positive']\n",
        "\n",
        "print(\"--- Sample Data ---\")\n",
        "print(df)\n",
        "\n",
        "# 2. Split Data\n",
        "X_train, X_test, y_train, y_test = train_test_split(X, y, test_size=0.3, random_state=42, stratify=y)\n",
        "\n",
        "print(f\"\\n--- Data Split ---\")\n",
        "print(f\"Training set size: {len(X_train)} samples\")\n",
        "print(f\"Test set size: {len(X_test)} samples\")\n",
        "\n",
        "# 3. Create a Pipeline: Vectorizer + Classifier\n",
        "# TfidfVectorizer: Converts text into numerical feature vectors.\n",
        "# LogisticRegression: Often performs well on text classification tasks.\n",
        "model = make_pipeline(TfidfVectorizer(), LogisticRegression())\n",
        "\n",
        "print(\"\\n--- Model Training ---\")\n",
        "# Train the model\n",
        "model.fit(X_train, y_train)\n",
        "print(\"Model training complete.\")\n",
        "\n",
        "# 4. Make Predictions\n",
        "print(\"\\n--- Making Predictions ---\")\n",
        "y_pred = model.predict(X_test)\n",
        "print(\"Predictions made on the test set.\")\n",
        "print(f\"Test Texts:\\n{X_test.tolist()}\")\n",
        "print(f\"Predicted Labels: {y_pred}\")\n",
        "print(f\"Actual Labels:    {y_test.tolist()}\")\n",
        "\n",
        "\n",
        "# 5. Evaluate the Model\n",
        "print(\"\\n--- Model Evaluation ---\")\n",
        "\n",
        "# Accuracy\n",
        "accuracy = accuracy_score(y_test, y_pred)\n",
        "print(f\"Accuracy: {accuracy:.4f}\")\n",
        "\n",
        "# Confusion Matrix\n",
        "print(\"\\nConfusion Matrix:\")\n",
        "cm = confusion_matrix(y_test, y_pred)\n",
        "print(cm)\n",
        "# Note: Plotting requires matplotlib and seaborn, install if needed\n",
        "try:\n",
        "    import matplotlib.pyplot as plt\n",
        "    import seaborn as sns\n",
        "    plt.figure(figsize=(6, 4))\n",
        "    sns.heatmap(cm, annot=True, fmt='d', cmap='Blues',\n",
        "                xticklabels=target_names, yticklabels=target_names)\n",
        "    plt.xlabel('Predicted Label')\n",
        "    plt.ylabel('True Label')\n",
        "    plt.title('Sentiment Analysis Confusion Matrix')\n",
        "    plt.show()\n",
        "except ImportError:\n",
        "    print(\"\\nInstall matplotlib and seaborn to visualize the confusion matrix.\")\n",
        "\n",
        "\n",
        "# Classification Report\n",
        "print(\"\\nClassification Report:\")\n",
        "report = classification_report(y_test, y_pred, target_names=target_names, zero_division=0)\n",
        "print(report)\n",
        "\n",
        "# Example of predicting new sentences\n",
        "new_sentences = [\"The plot was brilliant!\", \"Terrible film, avoid it.\"]\n",
        "predicted_labels = model.predict(new_sentences)\n",
        "print(f\"\\n--- Predictions for New Sentences ---\")\n",
        "for sentence, label in zip(new_sentences, predicted_labels):\n",
        "    print(f\"Sentence: '{sentence}' -> Predicted: {target_names[label]}\")\n",
        "\n"
      ],
      "metadata": {
        "colab": {
          "base_uri": "https://localhost:8080/",
          "height": 1000
        },
        "id": "IqUjQxDIs-Q8",
        "outputId": "7e51a9e3-3f99-4072-aece-fdf533d0c459"
      },
      "execution_count": null,
      "outputs": [
        {
          "output_type": "stream",
          "name": "stdout",
          "text": [
            "--- Sample Data ---\n",
            "                                            text  label\n",
            "0           This movie was absolutely fantastic!      1\n",
            "1   I really enjoyed the book, highly recommend.      1\n",
            "2  The service was terrible, very disappointing.      0\n",
            "3                What a waste of time and money.      0\n",
            "4            The food was okay, nothing special.      0\n",
            "5    An amazing experience from start to finish.      1\n",
            "6               I would not go back there again.      0\n",
            "7                 Loved the acting and the plot.      1\n",
            "8             Completely boring and predictable.      0\n",
            "9            It was pretty good, worth watching.      1\n",
            "\n",
            "--- Data Split ---\n",
            "Training set size: 7 samples\n",
            "Test set size: 3 samples\n",
            "\n",
            "--- Model Training ---\n",
            "Model training complete.\n",
            "\n",
            "--- Making Predictions ---\n",
            "Predictions made on the test set.\n",
            "Test Texts:\n",
            "['The service was terrible, very disappointing.', 'I would not go back there again.', 'It was pretty good, worth watching.']\n",
            "Predicted Labels: [1 1 1]\n",
            "Actual Labels:    [0, 0, 1]\n",
            "\n",
            "--- Model Evaluation ---\n",
            "Accuracy: 0.3333\n",
            "\n",
            "Confusion Matrix:\n",
            "[[0 2]\n",
            " [0 1]]\n"
          ]
        },
        {
          "output_type": "display_data",
          "data": {
            "text/plain": [
              "<Figure size 600x400 with 2 Axes>"
            ],
            "image/png": "[encoded data removed]"
          },
          "metadata": {}
        },
        {
          "output_type": "stream",
          "name": "stdout",
          "text": [
            "\n",
            "Classification Report:\n",
            "              precision    recall  f1-score   support\n",
            "\n",
            "    Negative       0.00      0.00      0.00         2\n",
            "    Positive       0.33      1.00      0.50         1\n",
            "\n",
            "    accuracy                           0.33         3\n",
            "   macro avg       0.17      0.50      0.25         3\n",
            "weighted avg       0.11      0.33      0.17         3\n",
            "\n",
            "\n",
            "--- Predictions for New Sentences ---\n",
            "Sentence: 'The plot was brilliant!' -> Predicted: Positive\n",
            "Sentence: 'Terrible film, avoid it.' -> Predicted: Positive\n"
          ]
        }
      ]
    },
    {
      "cell_type": "code",
      "execution_count": null,
      "metadata": {
        "id": "7oDfPT72s8v3"
      },
      "outputs": [],
      "source": []
    }
  ]
}