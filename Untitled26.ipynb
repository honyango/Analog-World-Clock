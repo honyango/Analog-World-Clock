{
  "nbformat": 4,
  "nbformat_minor": 0,
  "metadata": {
    "colab": {
      "provenance": [],
      "mount_file_id": "1bljNMRtYHLnDk6oO03q7mHVO8GYwzadh",
      "authorship_tag": "ABX9TyMsR8zvTQ9gWJKhvPUebJt+",
      "include_colab_link": true
    },
    "kernelspec": {
      "name": "python3",
      "display_name": "Python 3"
    },
    "language_info": {
      "name": "python"
    }
  },
  "cells": [
    {
      "cell_type": "markdown",
      "metadata": {
        "id": "view-in-github",
        "colab_type": "text"
      },
      "source": [
        "<a href=\"https://colab.research.google.com/github/honyango/Analog-World-Clock/blob/master/Untitled26.ipynb\" target=\"_parent\"><img src=\"https://colab.research.google.com/assets/colab-badge.svg\" alt=\"Open In Colab\"/></a>"
      ]
    },
    {
      "cell_type": "code",
      "execution_count": null,
      "metadata": {
        "id": "QWMhAbK9lmHU"
      },
      "outputs": [],
      "source": [
        "#Import the Libraries\n",
        "import pandas as pd\n",
        "import numpy as np\n",
        "import matplotlib.pyplot as plt\n",
        "import seaborn as sns\n",
        "\n",
        "#Load the dataset\n",
        "df = pd.read_csv('Microsoft_Stock.csv')"
      ]
    },
    {
      "cell_type": "markdown",
      "source": [
        " Step 2: Understand the Structure of the Data\n",
        "Basic Information"
      ],
      "metadata": {
        "id": "ntPFtAp2oer9"
      }
    },
    {
      "cell_type": "code",
      "source": [
        "df.head()         # View top 5 rows\n",
        "df.tail()         # View bottom 5 rows\n",
        "df.shape          # Dimensions of the data\n",
        "df.columns        # Column names\n",
        "df.info()         # Data types and non-null values\n",
        "df.describe()     # Summary statistics for numerical columns\n"
      ],
      "metadata": {
        "id": "Zbl8iaytozkh"
      },
      "execution_count": null,
      "outputs": []
    }
  ]
}