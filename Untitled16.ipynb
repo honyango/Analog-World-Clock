{
  "nbformat": 4,
  "nbformat_minor": 0,
  "metadata": {
    "colab": {
      "provenance": [],
      "authorship_tag": "ABX9TyOwEayNbSboHMzhqegLpCx4",
      "include_colab_link": true
    },
    "kernelspec": {
      "name": "python3",
      "display_name": "Python 3"
    },
    "language_info": {
      "name": "python"
    }
  },
  "cells": [
    {
      "cell_type": "markdown",
      "metadata": {
        "id": "view-in-github",
        "colab_type": "text"
      },
      "source": [
        "<a href=\"https://colab.research.google.com/github/honyango/Analog-World-Clock/blob/master/Untitled16.ipynb\" target=\"_parent\"><img src=\"https://colab.research.google.com/assets/colab-badge.svg\" alt=\"Open In Colab\"/></a>"
      ]
    },
    {
      "cell_type": "code",
      "execution_count": null,
      "metadata": {
        "id": "tmeQzzX1baU4"
      },
      "outputs": [],
      "source": [
        "# Importing necessary librares\n",
        "\n",
        "Import numpy as np\n",
        "from sk learn.linear_model import LinearRegression\n",
        "from sk learn.metrics import mean_squared_error\n",
        "\n"
      ]
    },
    {
      "cell_type": "code",
      "source": [
        "#Static data\n",
        "# Temperature Data\n",
        "temperature_train = np.array([20, 25 30, 35, 40, 45, 50]). reshape(-1,1)\n"
      ],
      "metadata": {
        "id": "0zFlVFYLc6Gg"
      },
      "execution_count": null,
      "outputs": []
    },
    {
      "cell_type": "code",
      "source": [
        "#Getting Userr input for tempearture values\n",
        "temperature_input = float(input(\"Enter the temperature value for predication: \"))\n",
        "\n",
        "#Reshaping Input fpr predication\n",
        "temperature_input = np.array(temperature_input).reshape(-1,1)\n",
        "\n",
        "#Making Prediction of Input temperature Value\n",
        "predicted_humidity = model.predict(temperature_input)\n",
        "\n",
        "#Printing Predicted Humidity\n",
        "print(f\"Predicted Humidity: {predicted_humidity[0]}\")"
      ],
      "metadata": {
        "id": "aRPonTZfd3d6"
      },
      "execution_count": null,
      "outputs": []
    }
  ]
}