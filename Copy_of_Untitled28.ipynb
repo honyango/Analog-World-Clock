{
  "nbformat": 4,
  "nbformat_minor": 0,
  "metadata": {
    "colab": {
      "private_outputs": true,
      "provenance": [],
      "authorship_tag": "ABX9TyOG+LTEmNyeGXVfts0dvzFh",
      "include_colab_link": true
    },
    "kernelspec": {
      "name": "python3",
      "display_name": "Python 3"
    },
    "language_info": {
      "name": "python"
    }
  },
  "cells": [
    {
      "cell_type": "markdown",
      "metadata": {
        "id": "view-in-github",
        "colab_type": "text"
      },
      "source": [
        "<a href=\"https://colab.research.google.com/github/honyango/Analog-World-Clock/blob/master/Copy_of_Untitled28.ipynb\" target=\"_parent\"><img src=\"https://colab.research.google.com/assets/colab-badge.svg\" alt=\"Open In Colab\"/></a>"
      ]
    },
    {
      "cell_type": "code",
      "execution_count": null,
      "metadata": {
        "id": "6z0YoQLZ9qLe"
      },
      "outputs": [],
      "source": []
    },
    {
      "cell_type": "markdown",
      "source": [
        "To visualize the relationship between the number of TV commercials broadcast (x) and the store sales (y), we can use a scatter plot, which is ideal for examining relationships between two quantitative variables.\n",
        "\n",
        "Here’s a Python code snippet using matplotlib to generate the scatter plot:"
      ],
      "metadata": {
        "id": "LxhajWQu9vBe"
      }
    },
    {
      "cell_type": "code",
      "source": [
        "#Import the Libraries\n",
        "import pandas as pd\n",
        "import matplotlib.pyplot as plt\n",
        "\n",
        "# Given data\n",
        "x = [2, 5, 1, 3, 4, 1, 5, 3, 4, 2]\n",
        "y = [50, 57, 41, 54, 54, 38, 63, 48, 59, 49]\n",
        "\n",
        "# Create scatter plot\n",
        "plt.figure(figsize=(8, 6))\n",
        "plt.scatter(x, y, color='blue', edgecolor='black')\n",
        "plt.title('TV Commercials vs. Store Sales')\n",
        "plt.xlabel('Number of TV Commercials (x)')\n",
        "plt.ylabel('Store Sales (y)')\n",
        "plt.grid(True)\n",
        "plt.show()\n",
        "\n"
      ],
      "metadata": {
        "id": "j6L8oCqX9xJI"
      },
      "execution_count": null,
      "outputs": []
    },
    {
      "cell_type": "markdown",
      "source": [
        "What this visualization shows:\n",
        "Each point represents a (commercials, sales) pair.\n",
        "\n",
        "You can visually assess if more commercials are associated with higher sales.\n",
        "\n",
        "If you'd like, I can also help with:\n",
        "\n",
        "Computing a regression line.\n",
        "\n",
        "Calculating the correlation coefficient.\n",
        "\n",
        "Making predictions based on this data."
      ],
      "metadata": {
        "id": "X59j8VjV-JmK"
      }
    },
    {
      "cell_type": "code",
      "source": [],
      "metadata": {
        "id": "o00rEgC5-KvX"
      },
      "execution_count": null,
      "outputs": []
    },
    {
      "cell_type": "markdown",
      "source": [
        "The scatter-plot above shows how store sales in the week after change as the number of TV commercials aired over the weekend increases. The points follow an upward, roughly straight-line trend: more commercials → higher sales."
      ],
      "metadata": {
        "id": "x6vZxD4f-LzG"
      }
    },
    {
      "cell_type": "markdown",
      "source": [],
      "metadata": {
        "id": "UMxwd6zf_B1d"
      }
    },
    {
      "cell_type": "markdown",
      "source": [
        "Argue why a linear regression model is justified in this case. In addition to the data visualization,\n",
        "choose and compute a statistical measure that supports your argument best. Provide the\n",
        "necessary theoretical background."
      ],
      "metadata": {
        "id": "7guLvBZl_HMW"
      }
    },
    {
      "cell_type": "markdown",
      "source": [
        "Why a linear regression model is justified\n",
        "Criterion\tEvidence from the sample\n",
        "Visual pattern\tPoints cluster tightly around a straight line with no obvious curvature or systematic “fan” shape.\n",
        "Strength of linear association\tPearson correlation coefficient\n",
        "𝑟\n",
        "=\n",
        "0.920\n",
        "r=0.920 (calculated on the plot)\n",
        "Amount of variation explained\n",
        "𝑅\n",
        "2\n",
        "=\n",
        "𝑟\n",
        "2\n",
        "=\n",
        "0.847\n",
        "R\n",
        "2\n",
        " =r\n",
        "2\n",
        " =0.847 → about 85 % of the variance in weekly sales is explained by a straight-line function of commercials.\n",
        "Statistical significance\tWith\n",
        "𝑛\n",
        "=\n",
        "10\n",
        "n=10 observations,\n",
        "𝑝\n",
        "=\n",
        "0.00016\n",
        "p=0.00016. The probability of seeing an\n",
        "𝑟\n",
        "r this large if the true correlation were zero is ≈ 0.016 %.\n",
        "\n",
        "Because the linear component is both strong (|r| ≈ 1) and statistically significant, and residuals show no obvious non-linear pattern, the simplest adequate model is a simple linear regression"
      ],
      "metadata": {
        "id": "1Z9Z52G9_Ytr"
      }
    },
    {
      "cell_type": "code",
      "source": [],
      "metadata": {
        "id": "9TPPetY5_Iof"
      },
      "execution_count": null,
      "outputs": []
    },
    {
      "cell_type": "markdown",
      "source": [],
      "metadata": {
        "id": "6YLJ9ECtAWnF"
      }
    },
    {
      "cell_type": "markdown",
      "source": [
        "Write and explain a Python code for a linear regression analysis of the data set in question."
      ],
      "metadata": {
        "id": "iJhL07GeAXc8"
      }
    },
    {
      "cell_type": "code",
      "source": [
        "# -----------------------------\n",
        "# 1.  Imports and the raw data\n",
        "# -----------------------------\n",
        "import numpy as np\n",
        "import matplotlib.pyplot as plt\n",
        "from scipy.stats import linregress          # one-line OLS\n",
        "\n",
        "# Weekend commercials (x) and next-week sales (y)\n",
        "x = np.array([2, 5, 1, 3, 4, 1, 5, 3, 4, 2])\n",
        "y = np.array([50, 57, 41, 54, 54, 38, 63, 48, 59, 49])\n",
        "\n",
        "# ----------------------------------------\n",
        "# 2.  Run simple-linear-regression via SciPy\n",
        "# ----------------------------------------\n",
        "slope, intercept, r_value, p_value, std_err = linregress(x, y)\n",
        "\n",
        "# Predicted (fitted) values ŷ for every observed x\n",
        "y_hat = intercept + slope * x               # ŷ = β₀ + β₁x\n",
        "\n",
        "# ----------------------------------------\n",
        "# 3.  Visualise data + fitted line\n",
        "# ----------------------------------------\n",
        "plt.scatter(x, y, label='Observed data')    # raw points\n",
        "plt.plot(x, y_hat, label='Fitted line')     # regression line\n",
        "\n",
        "plt.title('Television commercials vs. Store sales')\n",
        "plt.xlabel('Number of commercials (weekend)')\n",
        "plt.ylabel('Store sales (following week)')\n",
        "plt.legend()\n",
        "plt.grid(True)\n",
        "plt.show()\n",
        "\n",
        "# ----------------------------------------\n",
        "# 4.  Print the main diagnostics\n",
        "# ----------------------------------------\n",
        "print(f'Intercept (β₀): {intercept:6.2f}')\n",
        "print(f'Slope     (β₁): {slope:6.2f}   # extra sales per extra commercial')\n",
        "print(f'R-squared     : {r_value**2:6.3f}')\n",
        "print(f'p-value (β₁≠0): {p_value:6.5f}')\n",
        "print(f'Std. error β₁ : {std_err:6.3f}')\n"
      ],
      "metadata": {
        "id": "NceJ3_uLAgRm"
      },
      "execution_count": null,
      "outputs": []
    }
  ]
}