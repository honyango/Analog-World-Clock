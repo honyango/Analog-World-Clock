{
  "nbformat": 4,
  "nbformat_minor": 0,
  "metadata": {
    "colab": {
      "provenance": [],
      "mount_file_id": "1q7NFlg-szUIx0KMi49EBJfKjyovrbzOm",
      "authorship_tag": "ABX9TyNzBGULxTw0e30dyaheO0ZM",
      "include_colab_link": true
    },
    "kernelspec": {
      "name": "python3",
      "display_name": "Python 3"
    },
    "language_info": {
      "name": "python"
    }
  },
  "cells": [
    {
      "cell_type": "markdown",
      "metadata": {
        "id": "view-in-github",
        "colab_type": "text"
      },
      "source": [
        "<a href=\"https://colab.research.google.com/github/honyango/Analog-World-Clock/blob/master/Untitled20.ipynb\" target=\"_parent\"><img src=\"https://colab.research.google.com/assets/colab-badge.svg\" alt=\"Open In Colab\"/></a>"
      ]
    },
    {
      "cell_type": "code",
      "execution_count": null,
      "metadata": {
        "id": "SxXNDiGFX34C"
      },
      "outputs": [],
      "source": [
        "#Importing Libraries\n",
        "import numpy as np\n",
        "import matplotlib.pyplot as plt\n",
        "import pandas as pd\n",
        "#Import the dataset\n",
        "dataset=pd.read_csv('Social_Network_Ads.csv')\n",
        "#content of the dataset\n",
        "dataset.head()\n",
        "\n",
        "\n",
        "#Select the column\n",
        "#Select the specific colum\n",
        "x = dataset.iloc[:, 2:4]\n",
        "y = dataset.iloc[:, -1]"
      ]
    },
    {
      "cell_type": "code",
      "source": [
        "from sklearn.preprocessing import StandardScaler\n",
        "st = StandardScaler()\n",
        "x = st.fit_transform(x)\n",
        "\n",
        "from sklearn.linear_model import LogisticRegression\n",
        "lg_reg = LogisticRegression()\n",
        "\n",
        "#Appllying the model\n",
        "\n",
        "lg_reg.fit(x,y)\n",
        "#Calculating the Score\n",
        "lg_reg.score(x,y)\n",
        "y_pred = lg_reg.predict(x)"
      ],
      "metadata": {
        "id": "LiyK1QhybJDn"
      },
      "execution_count": null,
      "outputs": []
    },
    {
      "cell_type": "code",
      "source": [
        "lg_reg.score(x, y)"
      ],
      "metadata": {
        "id": "81lX5-C9dBT2"
      },
      "execution_count": null,
      "outputs": []
    },
    {
      "cell_type": "code",
      "source": [
        "from matplotlib.colors import ListedColormap\n",
        "import numpy as np\n",
        "import matplotlib.pyplot as plt\n",
        "\n",
        "# Assuming X and y are properly defined and lg_reg is your trained logistic regression model\n",
        "# X should be a 2D NumPy array or equivalent containing two features\n",
        "# y should be a NumPy array containing target labels (e.g., 0 and 1)\n",
        "\n",
        "# Define the grid for decision boundary visualization\n",
        "num_points = 100  # Adjust as needed\n",
        "x1, x2 = np.meshgrid(\n",
        "  np.linspace(x[:, 0].min() - 1, x[:, 0].max() + 1, num_points),\n",
        "  np.linspace(x[:, 1].min() - 1, x[:, 1].max() + 1, num_points),\n",
        ")\n",
        "\n",
        "\n",
        "\n",
        "# Flatten the grid and make predictions for each point\n",
        "grid_points = np.array([x1.ravel(), x2.ravel()]).T\n",
        "predictions = lg_reg.predict(grid_points).reshape(x1.shape)\n",
        "\n",
        "# Plot the decision boundary\n",
        "plt.contourf(\n",
        "    x1,\n",
        "    x2,\n",
        "    predictions,\n",
        "    alpha=0.75,\n",
        "    cmap=ListedColormap([\"red\", \"green\"])  # Ensure valid color names\n",
        ")\n",
        "\n",
        "# Plot the data points\n",
        "for i, j in enumerate(np.unique(y)):\n",
        "    plt.scatter(\n",
        "        x[y == j, 0],\n",
        "        x[y == j, 1],\n",
        "        c=[\"red\", \"green\"][i],  # Map colors to class labels\n",
        "        label=f\"Class {j}\"\n",
        "    )\n",
        "\n",
        "# Add labels, title, and legend\n",
        "plt.title(\"Logistic Regression\")\n",
        "plt.xlabel(\"Age\")\n",
        "plt.ylabel(\"Estimated Salary\")\n",
        "plt.legend()\n",
        "plt.show()\n"
      ],
      "metadata": {
        "id": "s6BWlu2NdU7-"
      },
      "execution_count": null,
      "outputs": []
    },
    {
      "cell_type": "code",
      "source": [
        "#Importing Libraries\n",
        "import numpy as np\n",
        "import matplotlib.pyplot as plt\n",
        "import pandas as pd\n",
        "#Import the dataset\n",
        "dataset=pd.read_csv('Social_Network_Ads.csv')\n",
        "#content of the dataset\n",
        "dataset.head()\n"
      ],
      "metadata": {
        "id": "RuDDVYWTf0F9"
      },
      "execution_count": null,
      "outputs": []
    },
    {
      "cell_type": "code",
      "source": [
        "#Select the column\n",
        "#Select the specific colum\n",
        "x = dataset.iloc[:, [2,3]].values\n",
        "y = dataset.iloc[:, 4].values"
      ],
      "metadata": {
        "id": "Ley3g1kLf3hK"
      },
      "execution_count": null,
      "outputs": []
    },
    {
      "cell_type": "code",
      "source": [
        "\n",
        "#feature Scaing\n",
        "from sklearn.preprocessing import StandardScaler\n",
        "sc = StandardScaler()\n",
        "x_train = sc.fit_transform(x_train)\n",
        "x_test = sc.transform(x_test)"
      ],
      "metadata": {
        "id": "sxiEVUU3gozZ"
      },
      "execution_count": null,
      "outputs": []
    },
    {
      "source": [
        "#feature Scaing\n",
        "from sklearn.preprocessing import StandardScaler\n",
        "from sklearn.model_selection import train_test_split # Import train_test_split\n",
        "\n",
        "# Split the data into training and testing sets\n",
        "x_train, x_test, y_train, y_test = train_test_split(x, y, test_size = 0.25, random_state = 0) # Split the data\n",
        "\n",
        "sc = StandardScaler()\n",
        "x_train = sc.fit_transform(x_train)\n",
        "x_test = sc.transform(x_test)"
      ],
      "cell_type": "code",
      "metadata": {
        "id": "IG964i7bj52M"
      },
      "execution_count": null,
      "outputs": []
    },
    {
      "cell_type": "code",
      "source": [
        "from sklearn.metrics import accuracy_score\n",
        "accuracy_score(y_test,y_pred)\n",
        "print('The accuracy is')"
      ],
      "metadata": {
        "id": "NA8aXfMNjFH4"
      },
      "execution_count": null,
      "outputs": []
    },
    {
      "cell_type": "code",
      "source": [
        "from sklearn.tree import DecisionTreeClassifier\n",
        "classifier = DecisionTreeClassifier(criterion='entropy',random_state=0)\n",
        "classifier.fit(x_train,y_train)\n",
        "\n",
        "#PREDICTING THE RESULTS\n",
        "\n",
        "y_pred = classifier.predict(x_test)\n",
        "y_pred"
      ],
      "metadata": {
        "id": "6mH8MwY-h7i_"
      },
      "execution_count": null,
      "outputs": []
    },
    {
      "cell_type": "code",
      "source": [],
      "metadata": {
        "id": "l3uuBTjvk51L"
      },
      "execution_count": null,
      "outputs": []
    },
    {
      "cell_type": "code",
      "source": [],
      "metadata": {
        "id": "VMpWwxMRlQJC"
      },
      "execution_count": null,
      "outputs": []
    },
    {
      "cell_type": "code",
      "source": [
        "#Importing Libraries\n",
        "import numpy as np\n",
        "import matplotlib.pyplot as plt\n",
        "import pandas as pd\n",
        "#Import the dataset\n",
        "df=pd.read_csv('Social_Network_Ads.csv')\n",
        "#content of the dataset\n",
        "df.head()"
      ],
      "metadata": {
        "id": "YknRNvd_lQFo"
      },
      "execution_count": null,
      "outputs": []
    },
    {
      "cell_type": "code",
      "source": [
        "#Select the column\n",
        "#Select the specific colum\n",
        "x = dataset.iloc[:, [2,3]].values\n",
        "y = dataset.iloc[:, 4].values"
      ],
      "metadata": {
        "id": "bqk45lLmlfMg"
      },
      "execution_count": null,
      "outputs": []
    },
    {
      "cell_type": "code",
      "source": [
        "#feature Scaing\n",
        "from sklearn.preprocessing import StandardScaler\n",
        "from sklearn.model_selection import train_test_split # Import train_test_split\n",
        "\n",
        "# Split the data into training and testing sets\n",
        "x_train, x_test, y_train, y_test = train_test_split(x, y, test_size = 0.25, random_state = 0) # Split the data\n",
        "\n",
        "sc = StandardScaler()\n",
        "x_train = sc.fit_transform(x_train)\n",
        "x_test = sc.transform(x_test)"
      ],
      "metadata": {
        "id": "F5lsqPoxlyjz"
      },
      "execution_count": null,
      "outputs": []
    },
    {
      "cell_type": "code",
      "source": [],
      "metadata": {
        "id": "UXOpiomdm7Ql"
      },
      "execution_count": null,
      "outputs": []
    }
  ]
}