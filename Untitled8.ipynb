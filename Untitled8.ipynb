{
  "nbformat": 4,
  "nbformat_minor": 0,
  "metadata": {
    "colab": {
      "provenance": [],
      "authorship_tag": "ABX9TyMaXdqAgFYzpyHJMX/VWmOQ",
      "include_colab_link": true
    },
    "kernelspec": {
      "name": "python3",
      "display_name": "Python 3"
    },
    "language_info": {
      "name": "python"
    }
  },
  "cells": [
    {
      "cell_type": "markdown",
      "metadata": {
        "id": "view-in-github",
        "colab_type": "text"
      },
      "source": [
        "<a href=\"https://colab.research.google.com/github/honyango/Analog-World-Clock/blob/master/Untitled8.ipynb\" target=\"_parent\"><img src=\"https://colab.research.google.com/assets/colab-badge.svg\" alt=\"Open In Colab\"/></a>"
      ]
    },
    {
      "cell_type": "code",
      "source": [
        "# -*- coding: utf-8 -*-\n",
        "\"\"\"\n",
        "Example: Image Recognition Classification (Digits)\n",
        "\n",
        "This script demonstrates a basic image classification task using the\n",
        "built-in Digits dataset from scikit-learn. Each image is 8x8 pixels.\n",
        "\"\"\"\n",
        "\n",
        "import matplotlib.pyplot as plt\n",
        "from sklearn.datasets import load_digits\n",
        "from sklearn.model_selection import train_test_split\n",
        "from sklearn.linear_model import LogisticRegression\n",
        "from sklearn.metrics import accuracy_score, confusion_matrix, classification_report\n",
        "import numpy as np\n",
        "import seaborn as sns\n",
        "\n",
        "# 1. Load the Digits dataset\n",
        "digits = load_digits()\n",
        "X = digits.data  # Features (pixel values flattened into a 64-element vector)\n",
        "y = digits.target # Target variable (the digit 0-9)\n",
        "target_names = [str(i) for i in digits.target_names]\n",
        "\n",
        "print(\"--- Dataset Information ---\")\n",
        "print(f\"Number of samples: {X.shape[0]}\")\n",
        "print(f\"Number of features per sample (pixels): {X.shape[1]}\")\n",
        "print(f\"Number of classes (digits): {len(target_names)}\")\n",
        "\n",
        "# Optional: Display some sample images\n",
        "# plt.figure(figsize=(10, 4))\n",
        "# for index, (image, label) in enumerate(zip(digits.images[:10], digits.target[:10])):\n",
        "#     plt.subplot(2, 5, index + 1)\n",
        "#     plt.imshow(image, cmap=plt.cm.gray_r, interpolation='nearest')\n",
        "#     plt.title(f'Training: {label}')\n",
        "#     plt.axis('off')\n",
        "# plt.suptitle(\"Sample Images from Digits Dataset\")\n",
        "# plt.show()\n"
      ],
      "metadata": {
        "colab": {
          "base_uri": "https://localhost:8080/"
        },
        "id": "ECaa0j3mo_-N",
        "outputId": "080279c1-adc0-48ec-f6fa-3206a27bf95b"
      },
      "execution_count": null,
      "outputs": [
        {
          "output_type": "stream",
          "name": "stdout",
          "text": [
            "--- Dataset Information ---\n",
            "Number of samples: 1797\n",
            "Number of features per sample (pixels): 64\n",
            "Number of classes (digits): 10\n"
          ]
        }
      ]
    },
    {
      "cell_type": "code",
      "execution_count": null,
      "metadata": {
        "id": "pdrRA1yllWMi"
      },
      "outputs": [],
      "source": []
    }
  ]
}